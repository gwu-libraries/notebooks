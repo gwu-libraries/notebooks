{
 "cells": [
  {
   "cell_type": "markdown",
   "metadata": {},
   "source": [
    "## Getting first and last date of tweets for each twitter user"
   ]
  },
  {
   "cell_type": "markdown",
   "metadata": {},
   "source": [
    "The purpose of this notebook is to extract **unique user id, screen name, date user created, date of first tweet in dataset, date of last tweet** from a tweets collection (JSON) as a result table shown in Step 3 below. \n",
    "\n",
    "It was originally written for Program on Etremism data's request, but can be used for any collection by replacing the input file to users' own tweets collection file. "
   ]
  },
  {
   "cell_type": "markdown",
   "metadata": {},
   "source": [
    "#### 1) Setting Input file(JSON) and Output file(CSV)"
   ]
  },
  {
   "cell_type": "code",
   "execution_count": 6,
   "metadata": {
    "collapsed": true
   },
   "outputs": [],
   "source": [
    "# For users: Change the filenames as you like.\n",
    "\n",
    "INPUTFILE = \"POE_json2.json\"\n",
    "OUTPUTFILE = \"results.csv\""
   ]
  },
  {
   "cell_type": "markdown",
   "metadata": {},
   "source": [
    "#### 2) Extracting \"UserID, screen name, date created\" from the input data"
   ]
  },
  {
   "cell_type": "code",
   "execution_count": 2,
   "metadata": {
    "collapsed": false
   },
   "outputs": [
    {
     "name": "stdout",
     "output_type": "stream",
     "text": [
      "\"tweet_created_at\",\"userID\",\"screen_name\",\"user_created_at\"\r\n",
      "\"2017-04-10T11:04:58Z\",\"3238710423\",\"NageenNk\",\"2015-05-06T11:21:39Z\"\r\n",
      "\"2017-04-10T11:16:05Z\",\"287745263\",\"dappodan1\",\"2011-04-25T16:06:38Z\"\r\n",
      "\"2017-04-10T11:14:03Z\",\"287745263\",\"dappodan1\",\"2011-04-25T16:06:38Z\"\r\n",
      "\"2017-04-10T11:11:14Z\",\"287745263\",\"dappodan1\",\"2011-04-25T16:06:38Z\"\r\n"
     ]
    }
   ],
   "source": [
    "# header\n",
    "!echo \"[]\" | jq -r '[\"tweet_created_at\",\"userID\", \"screen_name\", \"user_created_at\"] | @csv' > \"csvdata.csv\"\n",
    "!cat $INPUTFILE | jq -r '[(.created_at | strptime(\"%A %B %d %T %z %Y\") | todate), .user.id_str, .user.screen_name, (.user.created_at | strptime(\"%A %B %d %T %z %Y\") | todate)] | @csv' >> \"csvdata.csv\"\n",
    "!head -5 \"csvdata.csv\""
   ]
  },
  {
   "cell_type": "markdown",
   "metadata": {},
   "source": [
    "#### 3) Getting First_tweet_date and Last_tweet_date for each user"
   ]
  },
  {
   "cell_type": "code",
   "execution_count": 3,
   "metadata": {
    "collapsed": false
   },
   "outputs": [
    {
     "data": {
      "text/html": [
       "<div>\n",
       "<table border=\"1\" class=\"dataframe\">\n",
       "  <thead>\n",
       "    <tr style=\"text-align: right;\">\n",
       "      <th></th>\n",
       "      <th>userID</th>\n",
       "      <th>screen_name</th>\n",
       "      <th>user_created_at</th>\n",
       "      <th>first_tweet_date</th>\n",
       "      <th>last_tweet_date</th>\n",
       "    </tr>\n",
       "  </thead>\n",
       "  <tbody>\n",
       "    <tr>\n",
       "      <th>0</th>\n",
       "      <td>3143581</td>\n",
       "      <td>UnitedStates</td>\n",
       "      <td>2007-04-01T18:21:58Z</td>\n",
       "      <td>2016-10-15T21:58:46Z</td>\n",
       "      <td>2017-05-13T00:26:53Z</td>\n",
       "    </tr>\n",
       "    <tr>\n",
       "      <th>1</th>\n",
       "      <td>18671937</td>\n",
       "      <td>V_FreaKy</td>\n",
       "      <td>2009-01-06T12:21:55Z</td>\n",
       "      <td>2009-01-06T12:24:33Z</td>\n",
       "      <td>2015-12-07T07:49:36Z</td>\n",
       "    </tr>\n",
       "    <tr>\n",
       "      <th>2</th>\n",
       "      <td>37378504</td>\n",
       "      <td>almanialkelli</td>\n",
       "      <td>2009-05-03T06:26:47Z</td>\n",
       "      <td>2009-05-03T06:27:25Z</td>\n",
       "      <td>2017-04-25T18:19:06Z</td>\n",
       "    </tr>\n",
       "    <tr>\n",
       "      <th>3</th>\n",
       "      <td>48733347</td>\n",
       "      <td>Antizionism</td>\n",
       "      <td>2009-06-19T15:23:04Z</td>\n",
       "      <td>2009-06-19T16:27:58Z</td>\n",
       "      <td>2010-10-29T22:25:47Z</td>\n",
       "    </tr>\n",
       "    <tr>\n",
       "      <th>4</th>\n",
       "      <td>57914577</td>\n",
       "      <td>ShamiWitness</td>\n",
       "      <td>2009-07-18T11:43:46Z</td>\n",
       "      <td>2014-11-20T18:50:52Z</td>\n",
       "      <td>2014-12-11T17:00:39Z</td>\n",
       "    </tr>\n",
       "  </tbody>\n",
       "</table>\n",
       "</div>"
      ],
      "text/plain": [
       "     userID    screen_name       user_created_at      first_tweet_date  \\\n",
       "0   3143581   UnitedStates  2007-04-01T18:21:58Z  2016-10-15T21:58:46Z   \n",
       "1  18671937       V_FreaKy  2009-01-06T12:21:55Z  2009-01-06T12:24:33Z   \n",
       "2  37378504  almanialkelli  2009-05-03T06:26:47Z  2009-05-03T06:27:25Z   \n",
       "3  48733347    Antizionism  2009-06-19T15:23:04Z  2009-06-19T16:27:58Z   \n",
       "4  57914577   ShamiWitness  2009-07-18T11:43:46Z  2014-11-20T18:50:52Z   \n",
       "\n",
       "        last_tweet_date  \n",
       "0  2017-05-13T00:26:53Z  \n",
       "1  2015-12-07T07:49:36Z  \n",
       "2  2017-04-25T18:19:06Z  \n",
       "3  2010-10-29T22:25:47Z  \n",
       "4  2014-12-11T17:00:39Z  "
      ]
     },
     "execution_count": 3,
     "metadata": {},
     "output_type": "execute_result"
    }
   ],
   "source": [
    "import pandas as pd              \n",
    "\n",
    "data = pd.read_csv(\"csvdata.csv\", encoding = 'ISO-8859-1')\n",
    "data2 = data.groupby(['userID', 'screen_name', 'user_created_at']).tweet_created_at.agg(['min', 'max'])\n",
    "data3 = data2.reset_index()\n",
    "data3.rename(columns={'min': 'first_tweet_date', 'max': 'last_tweet_date'}, inplace=True)\n",
    "data3.head(5)"
   ]
  },
  {
   "cell_type": "code",
   "execution_count": 4,
   "metadata": {
    "collapsed": false
   },
   "outputs": [
    {
     "data": {
      "text/plain": [
       "911"
      ]
     },
     "execution_count": 4,
     "metadata": {},
     "output_type": "execute_result"
    }
   ],
   "source": [
    "# the number of unique users\n",
    "len(data3)"
   ]
  },
  {
   "cell_type": "markdown",
   "metadata": {},
   "source": [
    "#### 4) Export the results to a csv file"
   ]
  },
  {
   "cell_type": "code",
   "execution_count": 5,
   "metadata": {
    "collapsed": false
   },
   "outputs": [],
   "source": [
    "# Export the results to a csv file whose filename is OUTPUTFILE set by user in the beginning of thie notebook.\n",
    "data3.to_csv(OUTPUTFILE, index=False)"
   ]
  }
 ],
 "metadata": {
  "anaconda-cloud": {},
  "kernelspec": {
   "display_name": "Python [default]",
   "language": "python",
   "name": "python3"
  },
  "language_info": {
   "codemirror_mode": {
    "name": "ipython",
    "version": 3
   },
   "file_extension": ".py",
   "mimetype": "text/x-python",
   "name": "python",
   "nbconvert_exporter": "python",
   "pygments_lexer": "ipython3",
   "version": "3.5.2"
  }
 },
 "nbformat": 4,
 "nbformat_minor": 1
}
