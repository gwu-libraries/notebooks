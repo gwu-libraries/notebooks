{
 "cells": [
  {
   "cell_type": "markdown",
   "metadata": {},
   "source": [
    "## This notebook demonstrates using PySpark to analyze tweets stored in ElasticSearch.\n",
    "\n",
    "Setting up the ElasticSearch and Spark cluster is described in https://github.com/justinlittman/TweetSets.\n",
    "\n",
    "To run pyspark-notebook:\n",
    "1. Get a copy of the elasticsearch-hadoop jar (`elasticsearch-hadoop-6.2.2.jar`).\n",
    "2. Run (adjusting linked directories and ports as necessary): `docker run -it --rm -p 8888:8888 --net=host --pid=host -e TINI_SUBREAPER=true -v ~/notebooks:/home/jovyan/work -v ~/elasticsearch-hadoop-6.2.2.jar:/home/jovyan/elasticsearch-hadoop-6.2.2.jar jupyter/pyspark-notebook`\n",
    "\n",
    "A few notes:\n",
    "* pyspark-notebook requires Python 3.6 and Spark 2.3. For the Spark cluster, gettyimages/spark was customized to be based on python:3.6-jessie (since by default, it uses Python 3.4.)\n",
    "* The networking for Spark is hugely confusing and relies heavily on random ports. This doesn't play well with Docker, but I think I got it right."
   ]
  },
  {
   "cell_type": "markdown",
   "metadata": {},
   "source": [
    "### Create the Spark Context."
   ]
  },
  {
   "cell_type": "code",
   "execution_count": 1,
   "metadata": {},
   "outputs": [],
   "source": [
    "import os\n",
    "import pyspark\n",
    "\n",
    "# Add the elasticsearch-hadoop jar\n",
    "os.environ['PYSPARK_SUBMIT_ARGS'] = '--jars /home/jovyan/elasticsearch-hadoop-6.2.2.jar pyspark-shell'\n",
    "conf = pyspark.SparkConf()\n",
    "\n",
    "# Point to the master.\n",
    "conf.setMaster(\"spark://tweetsets.library.gwu.edu:7101\")\n",
    "conf.setAppName(\"pyspark-elasticsearch-demo\")\n",
    "conf.set(\"spark.driver.bindAddress\", \"0.0.0.0\")\n",
    "# Don't hog all of the cores.\n",
    "conf.set(\"spark.cores.max\", \"3\")\n",
    "# Specify a port for the block manager (which runs as part of the worker). The range 7003-7028 is set \n",
    "# to be open in the Spark worker container.\n",
    "conf.set(\"spark.blockManager.port\", \"7004\")\n",
    "\n",
    "# create the context\n",
    "sc = pyspark.SparkContext(conf=conf)\n"
   ]
  },
  {
   "cell_type": "markdown",
   "metadata": {},
   "source": [
    "## Using RDD"
   ]
  },
  {
   "cell_type": "markdown",
   "metadata": {},
   "source": [
    "### Create an RDD from the ElasticSearch index."
   ]
  },
  {
   "cell_type": "code",
   "execution_count": 2,
   "metadata": {},
   "outputs": [],
   "source": [
    "# Configure for ElasticSearch cluster and index.\n",
    "es_conf = {\"es.nodes\": \"tweetsets.library.gwu.edu\",\n",
    "           \"es.port\": \"9200\",\n",
    "           \"es.resource\": \"tweets-ba2157/doc\"}\n",
    "\n",
    "tweets_rdd = sc.newAPIHadoopRDD(\"org.elasticsearch.hadoop.mr.EsInputFormat\",\\\n",
    "    \"org.apache.hadoop.io.NullWritable\", \"org.elasticsearch.hadoop.mr.LinkedMapWritable\", conf=es_conf)\n"
   ]
  },
  {
   "cell_type": "markdown",
   "metadata": {},
   "source": [
    "### Retrieve the first element from the RDD."
   ]
  },
  {
   "cell_type": "code",
   "execution_count": 3,
   "metadata": {},
   "outputs": [
    {
     "data": {
      "text/plain": [
       "('991588546514440193',\n",
       " {'hashtags': ('savethe8th',),\n",
       "  'tweet_id': '991588546514440193',\n",
       "  'retweeted_quoted_user_id': '780395768595288064',\n",
       "  'created_at': '2018-05-02T08:01:46+00:00',\n",
       "  'mention_user_ids': ('780395768595288064',),\n",
       "  'retweet_count': 0,\n",
       "  'mention_screen_names': ('SarahEiruFodla',),\n",
       "  'user_follower_count': 450,\n",
       "  'urls': (),\n",
       "  'retweet_quoted_status_id': '991443480105930752',\n",
       "  'user_language': 'en',\n",
       "  'favorite_count': 0,\n",
       "  'text': ('RT @SarahEiruFodla: Only when I see supporters of #savethe8th hand out free condoms/pills, deliver realistic sex education, offer quality l…',),\n",
       "  'user_verified': False,\n",
       "  'user_utc_offset': '3600',\n",
       "  'retweeted_quoted_screen_name': 'SarahEiruFodla',\n",
       "  'has_geo': False,\n",
       "  'user_screen_name': 'GeorgiaTraceyy',\n",
       "  'dataset_id': 'ba2157',\n",
       "  'has_media': False,\n",
       "  'tweet': '{\"quote_count\": 0, \"contributors\": null, \"truncated\": false, \"text\": \"RT @SarahEiruFodla: Only when I see supporters of #savethe8th hand out free condoms/pills, deliver realistic sex education, offer quality l\\\\u2026\", \"is_quote_status\": false, \"in_reply_to_status_id\": null, \"reply_count\": 0, \"id\": 991588546514440193, \"favorite_count\": 0, \"entities\": {\"user_mentions\": [{\"id\": 780395768595288064, \"indices\": [3, 18], \"id_str\": \"780395768595288064\", \"screen_name\": \"SarahEiruFodla\", \"name\": \"Eir\\\\u00fa_F\\\\u00f3dla\\\\u2122\"}], \"symbols\": [], \"hashtags\": [{\"indices\": [50, 61], \"text\": \"savethe8th\"}], \"urls\": []}, \"retweeted\": false, \"coordinates\": null, \"timestamp_ms\": \"1525248106970\", \"source\": \"<a href=\\\\\"http://twitter.com/download/android\\\\\" rel=\\\\\"nofollow\\\\\">Twitter for Android</a>\", \"in_reply_to_screen_name\": null, \"id_str\": \"991588546514440193\", \"retweet_count\": 0, \"in_reply_to_user_id\": null, \"favorited\": false, \"retweeted_status\": {\"quote_count\": 2, \"contributors\": null, \"truncated\": true, \"text\": \"Only when I see supporters of #savethe8th hand out free condoms/pills, deliver realistic sex education, offer quali\\\\u2026 https://t.co/ttT3luYSRF\", \"is_quote_status\": false, \"in_reply_to_status_id\": null, \"reply_count\": 4, \"id\": 991443480105930752, \"favorite_count\": 158, \"entities\": {\"user_mentions\": [], \"symbols\": [], \"hashtags\": [{\"indices\": [30, 41], \"text\": \"savethe8th\"}], \"urls\": [{\"url\": \"https://t.co/ttT3luYSRF\", \"indices\": [117, 140], \"expanded_url\": \"https://twitter.com/i/web/status/991443480105930752\", \"display_url\": \"twitter.com/i/web/status/9\\\\u2026\"}]}, \"retweeted\": false, \"coordinates\": null, \"source\": \"<a href=\\\\\"https://mobile.twitter.com\\\\\" rel=\\\\\"nofollow\\\\\">Twitter Lite</a>\", \"in_reply_to_screen_name\": null, \"id_str\": \"991443480105930752\", \"retweet_count\": 54, \"in_reply_to_user_id\": null, \"favorited\": false, \"user\": {\"follow_request_sent\": null, \"profile_use_background_image\": true, \"default_profile_image\": false, \"id\": 780395768595288064, \"default_profile\": true, \"verified\": false, \"profile_image_url_https\": \"https://pbs.twimg.com/profile_images/979507130343411712/ZraoxJD3_normal.jpg\", \"profile_sidebar_fill_color\": \"DDEEF6\", \"profile_text_color\": \"333333\", \"followers_count\": 580, \"profile_sidebar_border_color\": \"C0DEED\", \"id_str\": \"780395768595288064\", \"profile_background_color\": \"F5F8FA\", \"listed_count\": 11, \"profile_background_image_url_https\": \"\", \"utc_offset\": null, \"statuses_count\": 1085, \"description\": \"Mammy & Wife\\\\u2764Feminist~Living Simply~Community Support Worker~Hyper-Empathic #TogetherForYes #Repealthe8th #StarWars #GlobalEquality #Grunge #Irishfolklore\\\\ud83d\\\\udc9a\", \"friends_count\": 576, \"location\": \"Ireland\", \"profile_link_color\": \"1DA1F2\", \"profile_image_url\": \"http://pbs.twimg.com/profile_images/979507130343411712/ZraoxJD3_normal.jpg\", \"following\": null, \"geo_enabled\": true, \"profile_banner_url\": \"https://pbs.twimg.com/profile_banners/780395768595288064/1521243230\", \"profile_background_image_url\": \"\", \"name\": \"Eir\\\\u00fa_F\\\\u00f3dla\\\\u2122\", \"lang\": \"en\", \"profile_background_tile\": false, \"favourites_count\": 2781, \"screen_name\": \"SarahEiruFodla\", \"notifications\": null, \"url\": null, \"created_at\": \"Mon Sep 26 13:17:05 +0000 2016\", \"contributors_enabled\": false, \"time_zone\": null, \"protected\": false, \"translator_type\": \"none\", \"is_translator\": false}, \"geo\": null, \"in_reply_to_user_id_str\": null, \"lang\": \"en\", \"extended_tweet\": {\"display_text_range\": [0, 279], \"entities\": {\"user_mentions\": [], \"symbols\": [], \"hashtags\": [{\"indices\": [30, 41], \"text\": \"savethe8th\"}, {\"indices\": [264, 279], \"text\": \"TogetherForYes\"}], \"urls\": []}, \"full_text\": \"Only when I see supporters of #savethe8th hand out free condoms/pills, deliver realistic sex education, offer quality low cost child care, tackle housing issues, demand more rights/supports/flexibility for working Mums, will I believe they want to reduce abortion\\\\n#TogetherForYes\"}, \"created_at\": \"Tue May 01 22:25:20 +0000 2018\", \"filter_level\": \"low\", \"in_reply_to_status_id_str\": null, \"place\": null}, \"user\": {\"follow_request_sent\": null, \"profile_use_background_image\": true, \"default_profile_image\": false, \"id\": 46169681, \"default_profile\": false, \"verified\": false, \"profile_image_url_https\": \"https://pbs.twimg.com/profile_images/977339741266886658/54HlVSgd_normal.jpg\", \"profile_sidebar_fill_color\": \"ADED5E\", \"profile_text_color\": \"2888C3\", \"followers_count\": 450, \"profile_sidebar_border_color\": \"1EB826\", \"id_str\": \"46169681\", \"profile_background_color\": \"FFFFFF\", \"listed_count\": 4, \"profile_background_image_url_https\": \"https://pbs.twimg.com/profile_background_images/812957087/5fc996f8750094a442daf05991e32358.jpeg\", \"utc_offset\": 3600, \"statuses_count\": 28098, \"description\": \"~Pun maker ~Coffee Drinker ~Sleep prioritiser ~ Chicken appreciator ~ #RepealThe8th\", \"friends_count\": 410, \"location\": \"Celbridge, Ireland\", \"profile_link_color\": \"0022FF\", \"profile_image_url\": \"http://pbs.twimg.com/profile_images/977339741266886658/54HlVSgd_normal.jpg\", \"following\": null, \"geo_enabled\": true, \"profile_banner_url\": \"https://pbs.twimg.com/profile_banners/46169681/1488638955\", \"profile_background_image_url\": \"http://pbs.twimg.com/profile_background_images/812957087/5fc996f8750094a442daf05991e32358.jpeg\", \"name\": \"Georgia Tracey\", \"lang\": \"en\", \"profile_background_tile\": false, \"favourites_count\": 2911, \"screen_name\": \"GeorgiaTraceyy\", \"notifications\": null, \"url\": null, \"created_at\": \"Wed Jun 10 17:31:40 +0000 2009\", \"contributors_enabled\": false, \"time_zone\": \"Dublin\", \"protected\": false, \"translator_type\": \"none\", \"is_translator\": false}, \"geo\": null, \"in_reply_to_user_id_str\": null, \"lang\": \"en\", \"created_at\": \"Wed May 02 08:01:46 +0000 2018\", \"filter_level\": \"low\", \"in_reply_to_status_id_str\": null, \"place\": null}',\n",
       "  'tweet_type': 'retweet',\n",
       "  'user_time_zone': 'Dublin',\n",
       "  'user_id': '46169681',\n",
       "  'user_location': 'Celbridge, Ireland'})"
      ]
     },
     "execution_count": 3,
     "metadata": {},
     "output_type": "execute_result"
    }
   ],
   "source": [
    "tweets_rdd.first()"
   ]
  },
  {
   "cell_type": "markdown",
   "metadata": {},
   "source": [
    "### Get the top hashtags"
   ]
  },
  {
   "cell_type": "code",
   "execution_count": 4,
   "metadata": {},
   "outputs": [
    {
     "data": {
      "text/plain": [
       "[('repealthe8th', 84179),\n",
       " ('together4yes', 57253),\n",
       " ('savethe8th', 43656),\n",
       " ('8thref', 35935),\n",
       " ('togetherforyes', 18763),\n",
       " ('lovebothvoteno', 18290),\n",
       " ('voteyes', 8245),\n",
       " ('loveboth', 8109),\n",
       " ('latelate', 5920),\n",
       " ('men4yes', 5884)]"
      ]
     },
     "execution_count": 4,
     "metadata": {},
     "output_type": "execute_result"
    }
   ],
   "source": [
    "tweets_rdd.flatMap(lambda t: t[1]['hashtags']).map(lambda x: (x, 1)).reduceByKey(lambda x,y: x + y).sortBy(lambda x: x[1], ascending=False).take(10)"
   ]
  },
  {
   "cell_type": "markdown",
   "metadata": {},
   "source": [
    "### Get the top user languages\n",
    "By parsing and extracting from each tweet since it is not already a field."
   ]
  },
  {
   "cell_type": "code",
   "execution_count": 5,
   "metadata": {},
   "outputs": [
    {
     "data": {
      "text/plain": [
       "[('en', 441308),\n",
       " ('en-gb', 19521),\n",
       " ('ja', 4473),\n",
       " ('en-GB', 4193),\n",
       " ('es', 2195),\n",
       " ('fr', 1582),\n",
       " ('ga', 992),\n",
       " ('de', 878),\n",
       " ('it', 812),\n",
       " ('ru', 517)]"
      ]
     },
     "execution_count": 5,
     "metadata": {},
     "output_type": "execute_result"
    }
   ],
   "source": [
    "import json\n",
    "\n",
    "parsed_tweets_rdd = tweets_rdd.map(lambda x: json.loads(x[1]['tweet'])).persist()\n",
    "parsed_tweets_rdd.map(lambda t: (t['user']['lang'], 1)).reduceByKey(lambda x,y: x + y).sortBy(lambda x: x[1], ascending=False).take(10)"
   ]
  },
  {
   "cell_type": "markdown",
   "metadata": {},
   "source": [
    "## Using a SQL table"
   ]
  },
  {
   "cell_type": "markdown",
   "metadata": {},
   "source": [
    "### Create SQL table"
   ]
  },
  {
   "cell_type": "code",
   "execution_count": 6,
   "metadata": {},
   "outputs": [],
   "source": [
    "from pyspark.sql import SQLContext\n",
    "sqlContext = SQLContext(sc)\n",
    "es_conf['es.read.field.as.array.include'] = 'hashtags,text,urls'\n",
    "tweets_df = sqlContext.read.format(\"org.elasticsearch.spark.sql\").options(**es_conf).load()\n",
    "tweets_df.createOrReplaceTempView(\"tweets\")"
   ]
  },
  {
   "cell_type": "markdown",
   "metadata": {},
   "source": [
    "### Print schema"
   ]
  },
  {
   "cell_type": "code",
   "execution_count": 7,
   "metadata": {},
   "outputs": [
    {
     "name": "stdout",
     "output_type": "stream",
     "text": [
      "root\n",
      " |-- created_at: timestamp (nullable = true)\n",
      " |-- dataset_id: string (nullable = true)\n",
      " |-- favorite_count: integer (nullable = true)\n",
      " |-- has_geo: boolean (nullable = true)\n",
      " |-- has_media: boolean (nullable = true)\n",
      " |-- hashtags: array (nullable = true)\n",
      " |    |-- element: string (containsNull = true)\n",
      " |-- in_reply_to_screen_name: string (nullable = true)\n",
      " |-- in_reply_to_status_id: string (nullable = true)\n",
      " |-- in_reply_to_user_id: string (nullable = true)\n",
      " |-- mention_screen_names: string (nullable = true)\n",
      " |-- mention_user_ids: string (nullable = true)\n",
      " |-- retweet_count: integer (nullable = true)\n",
      " |-- retweet_quoted_status_id: string (nullable = true)\n",
      " |-- retweeted_quoted_screen_name: string (nullable = true)\n",
      " |-- retweeted_quoted_user_id: string (nullable = true)\n",
      " |-- text: array (nullable = true)\n",
      " |    |-- element: string (containsNull = true)\n",
      " |-- tweet: string (nullable = true)\n",
      " |-- tweet_id: string (nullable = true)\n",
      " |-- tweet_type: string (nullable = true)\n",
      " |-- urls: array (nullable = true)\n",
      " |    |-- element: string (containsNull = true)\n",
      " |-- user_follower_count: integer (nullable = true)\n",
      " |-- user_id: string (nullable = true)\n",
      " |-- user_language: string (nullable = true)\n",
      " |-- user_location: string (nullable = true)\n",
      " |-- user_screen_name: string (nullable = true)\n",
      " |-- user_time_zone: string (nullable = true)\n",
      " |-- user_utc_offset: string (nullable = true)\n",
      " |-- user_verified: boolean (nullable = true)\n",
      "\n"
     ]
    }
   ],
   "source": [
    "tweets_df.printSchema()"
   ]
  },
  {
   "cell_type": "markdown",
   "metadata": {},
   "source": [
    "### Get the time zone"
   ]
  },
  {
   "cell_type": "code",
   "execution_count": 8,
   "metadata": {},
   "outputs": [
    {
     "name": "stdout",
     "output_type": "stream",
     "text": [
      "+--------------------------+---------------------+\n",
      "|user_time_zone            |count(user_time_zone)|\n",
      "+--------------------------+---------------------+\n",
      "|Dublin                    |113521               |\n",
      "|Pacific Time (US & Canada)|37240                |\n",
      "|London                    |30191                |\n",
      "|Amsterdam                 |19888                |\n",
      "|Casablanca                |15636                |\n",
      "|Europe/Dublin             |8694                 |\n",
      "|Eastern Time (US & Canada)|7565                 |\n",
      "|Hawaii                    |4303                 |\n",
      "|Central Time (US & Canada)|3470                 |\n",
      "|Europe/London             |1890                 |\n",
      "+--------------------------+---------------------+\n",
      "only showing top 10 rows\n",
      "\n"
     ]
    }
   ],
   "source": [
    "tz_df = sqlContext.sql(\"SELECT user_time_zone, count(user_time_zone) FROM tweets group by user_time_zone order by count(user_time_zone) desc\")\n",
    "tz_df.show(10, truncate=False)"
   ]
  },
  {
   "cell_type": "markdown",
   "metadata": {},
   "source": [
    "### Get the top hashtags"
   ]
  },
  {
   "cell_type": "code",
   "execution_count": 9,
   "metadata": {},
   "outputs": [
    {
     "name": "stdout",
     "output_type": "stream",
     "text": [
      "+--------------+--------------+\n",
      "|hashtag       |count(hashtag)|\n",
      "+--------------+--------------+\n",
      "|repealthe8th  |84179         |\n",
      "|together4yes  |57253         |\n",
      "|savethe8th    |43656         |\n",
      "|8thref        |35935         |\n",
      "|togetherforyes|18763         |\n",
      "|lovebothvoteno|18290         |\n",
      "|voteyes       |8245          |\n",
      "|loveboth      |8109          |\n",
      "|latelate      |5920          |\n",
      "|men4yes       |5884          |\n",
      "+--------------+--------------+\n",
      "only showing top 10 rows\n",
      "\n"
     ]
    }
   ],
   "source": [
    "hashtags_df = sqlContext.sql(\"SELECT hashtag, count(hashtag) from (SELECT explode(hashtags) hashtag FROM tweets) group by hashtag order by count(hashtag) desc\")\n",
    "hashtags_df.show(10, truncate=False)"
   ]
  },
  {
   "cell_type": "markdown",
   "metadata": {},
   "source": [
    "### Get the top URLs"
   ]
  },
  {
   "cell_type": "code",
   "execution_count": 10,
   "metadata": {},
   "outputs": [
    {
     "name": "stdout",
     "output_type": "stream",
     "text": [
      "+----------------------------------------------------------------------------------------------+----------+\n",
      "|url                                                                                           |count(url)|\n",
      "+----------------------------------------------------------------------------------------------+----------+\n",
      "|http://checktheregister.ie                                                                    |569       |\n",
      "|http://undecided8.org                                                                         |314       |\n",
      "|http://www.irishtimes.com/opinion/anti-abortion-posters-fail-to-take-account-of-life-1.3470187|294       |\n",
      "|http://bit.ly/2keysma                                                                         |292       |\n",
      "|http://www.checktheregister.ie                                                                |279       |\n",
      "|http://jrnl.ie/3986043t                                                                       |163       |\n",
      "|http://crowdfund.togetherforyes.ie                                                            |150       |\n",
      "|http://www.checktheregister.ie/publicpages/default.aspx?uilang=                               |137       |\n",
      "|http://youtu.be/itsxbbkp-tq                                                                   |135       |\n",
      "|http://adoption.ie/wp-content/uploads/2018/04/ara-position-paper-on-8th-amendment.pdf         |131       |\n",
      "+----------------------------------------------------------------------------------------------+----------+\n",
      "only showing top 10 rows\n",
      "\n"
     ]
    }
   ],
   "source": [
    "urls_df = sqlContext.sql(\"SELECT url, count(url) from (SELECT explode(urls) url FROM tweets) where not url like 'http://twitter.com%' group by url order by count(url) desc\")\n",
    "urls_df.show(10, truncate=False)"
   ]
  },
  {
   "cell_type": "markdown",
   "metadata": {},
   "source": [
    "### Get the top retweets"
   ]
  },
  {
   "cell_type": "code",
   "execution_count": 11,
   "metadata": {},
   "outputs": [
    {
     "name": "stdout",
     "output_type": "stream",
     "text": [
      "+----------------------------------------------------------------------------------------------+-------------------------------+\n",
      "|concat(https://twitter.com/, retweeted_quoted_screen_name, /status/, retweet_quoted_status_id)|count(retweet_quoted_status_id)|\n",
      "+----------------------------------------------------------------------------------------------+-------------------------------+\n",
      "|https://twitter.com/Together4yes/status/993174221265174529                                    |4549                           |\n",
      "|https://twitter.com/markohalloran/status/987318846980751360                                   |2251                           |\n",
      "|https://twitter.com/campaignforleo/status/987646457045020672                                  |1958                           |\n",
      "|https://twitter.com/amyhuberman/status/987303602514530304                                     |1614                           |\n",
      "|https://twitter.com/Sarah_Hyland/status/993520504052092928                                    |1474                           |\n",
      "|https://twitter.com/campaignforleo/status/988744931501133825                                  |1261                           |\n",
      "|https://twitter.com/NursepollyRgn/status/985280763942916096                                   |1222                           |\n",
      "|https://twitter.com/SimonHarrisTD/status/989998862164164609                                   |1221                           |\n",
      "|https://twitter.com/Iam_here_2018/status/989056513753874433                                   |1128                           |\n",
      "|https://twitter.com/RealJamesWoods/status/993575065332600834                                  |998                            |\n",
      "+----------------------------------------------------------------------------------------------+-------------------------------+\n",
      "only showing top 10 rows\n",
      "\n"
     ]
    }
   ],
   "source": [
    "rt_df = sqlContext.sql(\"SELECT CONCAT('https://twitter.com/', retweeted_quoted_screen_name, '/status/', retweet_quoted_status_id), count(retweet_quoted_status_id) FROM tweets group by retweet_quoted_status_id, retweeted_quoted_screen_name order by count(retweet_quoted_status_id) desc\")\n",
    "rt_df.show(10, truncate=False)"
   ]
  },
  {
   "cell_type": "markdown",
   "metadata": {},
   "source": [
    "### Get the top trigrams"
   ]
  },
  {
   "cell_type": "code",
   "execution_count": 13,
   "metadata": {},
   "outputs": [
    {
     "name": "stdout",
     "output_type": "stream",
     "text": [
      "+--------------------------------------------+-----+\n",
      "|ngrams                                      |count|\n",
      "+--------------------------------------------+-----+\n",
      "|vote women yes                              |362  |\n",
      "|voting women yes                            |243  |\n",
      "|help please support                         |122  |\n",
      "|vote voting yes                             |117  |\n",
      "|8th abortion amendment                      |104  |\n",
      "|@josephamadigan @simonharristd @together4yes|99   |\n",
      "|care change compassion                      |88   |\n",
      "|@conmurphysport @gordonwdarcy @kevinmcgahern|85   |\n",
      "|@andyleeboxing @conmurphysport @gordonwdarcy|83   |\n",
      "|irish referendum urged                      |78   |\n",
      "|@gordonwdarcy @kevinmcgahern @richiesadlier |75   |\n",
      "|please privilege right                      |74   |\n",
      "|registered sure vote                        |74   |\n",
      "|perfect please privilege                    |73   |\n",
      "|child every life                            |72   |\n",
      "|@simonharristd @together4yes abortion       |72   |\n",
      "|life perfect please                         |72   |\n",
      "|@kevinmcgahern @richiesadlier @together4yes |71   |\n",
      "|emigrants irish referendum                  |70   |\n",
      "|every life perfect                          |69   |\n",
      "+--------------------------------------------+-----+\n",
      "only showing top 20 rows\n",
      "\n"
     ]
    }
   ],
   "source": [
    "from pyspark.ml.feature import RegexTokenizer, NGram, StopWordsRemover\n",
    "from pyspark.sql.functions import sort_array, udf, explode\n",
    "from pyspark.sql.types import ArrayType, StringType\n",
    "\n",
    "# Text (using distinct)\n",
    "text_df = tweets_df.select(explode(\"text\").alias(\"text\")).distinct()\n",
    "\n",
    "# Tokenize\n",
    "tokenizer = RegexTokenizer(pattern=\"([:\\.!?,]|'s|’s)*\\\\s+[‘]*\", inputCol=\"text\", outputCol=\"words\")\n",
    "tokenized_df = tokenizer.transform(text_df)\n",
    "\n",
    "# Stopwords\n",
    "stop_words = StopWordsRemover.loadDefaultStopWords('english')\n",
    "stop_words.extend(['rt', ' ', '-', '&amp;', 'it’s', '', 'may', 'see', 'want', 'i’m', 'us', 'make', \"we've\", \"you're\", \"you've\", \"don't\", \"i’ve\", 'it', 'they’re', 'don’t', 'lets', 'add'])\n",
    "remover = StopWordsRemover(inputCol=\"words\", outputCol=\"filtered_words\", stopWords=stop_words)\n",
    "filtered_df = remover.transform(tokenized_df)\n",
    "\n",
    "# Remove hashtags and URLs and dupes\n",
    "def clean(arr):\n",
    "    new_arr = set()\n",
    "    for item in arr:\n",
    "        add_to_arr = True\n",
    "        for startswith in ('#', 'http'):\n",
    "            if item.startswith(startswith):\n",
    "                add_to_arr = False\n",
    "        if add_to_arr:\n",
    "            new_arr.add(item)\n",
    "    return list(new_arr)\n",
    "\n",
    "clean_udf = udf(lambda arr: clean(arr), ArrayType(StringType()))\n",
    "clean_df = filtered_df.withColumn(\"clean_words\", clean_udf(filtered_df.filtered_words))\n",
    "\n",
    "# Sort the words\n",
    "sorted_df = clean_df.select(sort_array('clean_words').alias('sorted_words'))\n",
    "\n",
    "ngram = NGram(n=3, inputCol=\"sorted_words\", outputCol=\"ngrams\")\n",
    "ngram_df = ngram.transform(sorted_df).select(explode('ngrams').alias('ngrams'))\n",
    "ngram_df.groupBy('ngrams').count().orderBy('count', ascending=False).show(20, truncate=False)"
   ]
  }
 ],
 "metadata": {
  "kernelspec": {
   "display_name": "Python 3",
   "language": "python",
   "name": "python3"
  },
  "language_info": {
   "codemirror_mode": {
    "name": "ipython",
    "version": 3
   },
   "file_extension": ".py",
   "mimetype": "text/x-python",
   "name": "python",
   "nbconvert_exporter": "python",
   "pygments_lexer": "ipython3",
   "version": "3.6.2"
  }
 },
 "nbformat": 4,
 "nbformat_minor": 2
}
