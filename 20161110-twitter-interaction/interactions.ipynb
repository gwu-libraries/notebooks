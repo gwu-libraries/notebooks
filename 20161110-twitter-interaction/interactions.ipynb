{
 "cells": [
  {
   "cell_type": "markdown",
   "metadata": {},
   "source": [
    "# On retweets, replies, quotes & favorites:  A guide for researchers\n",
    "\n",
    "This notebook explores the affordances of the Twitter API for retweets, replies, quotes, and favorites. It is motivated by questions from several George Washington University researchers who are interested in using [Social Feed Manager](http://go.gwu.edu/sfm) to collect datasets for studying dialogues and interaction on Twitter.\n",
    "\n",
    "We will not discuss affordances of the Twitter API that are perspectival, that is, depend on the Twitter account that is used to access the API. So, for example, we will not consider [GET statuses/retweets_of_me](https://dev.twitter.com/rest/reference/get/statuses/retweets_of_me)."
   ]
  },
  {
   "cell_type": "markdown",
   "metadata": {
    "collapsed": true
   },
   "source": [
    "## Setup\n",
    "\n",
    "Before proceeding, we will install [Twarc](https://github.com/DocNow/twarc). Twarc is a Twitter client. It is generally used from the commandline,\n",
    "but we will use it as a library.\n",
    "\n",
    "This assumes that you have run Twarc locally and already have credentials stored in ~/.twarc.\n",
    "\n",
    "As you are reading this, feel free to skip any of the sections of code."
   ]
  },
  {
   "cell_type": "code",
   "execution_count": 1,
   "metadata": {
    "collapsed": false
   },
   "outputs": [
    {
     "name": "stdout",
     "output_type": "stream",
     "text": [
      "Requirement already satisfied (use --upgrade to upgrade): twarc from git+https://github.com/justinlittman/twarc.git@retweets#egg=twarc in /Users/justinlittman/JUPYTER/lib/python2.7/site-packages\n",
      "Requirement already satisfied (use --upgrade to upgrade): pytest in /Users/justinlittman/JUPYTER/lib/python2.7/site-packages (from twarc)\n",
      "Requirement already satisfied (use --upgrade to upgrade): python-dateutil in /Users/justinlittman/JUPYTER/lib/python2.7/site-packages (from twarc)\n",
      "Requirement already satisfied (use --upgrade to upgrade): requests-oauthlib in /Users/justinlittman/JUPYTER/lib/python2.7/site-packages (from twarc)\n",
      "Requirement already satisfied (use --upgrade to upgrade): unicodecsv in /Users/justinlittman/JUPYTER/lib/python2.7/site-packages (from twarc)\n",
      "Requirement already satisfied (use --upgrade to upgrade): py>=1.4.29 in /Users/justinlittman/JUPYTER/lib/python2.7/site-packages (from pytest->twarc)\n",
      "Requirement already satisfied (use --upgrade to upgrade): six>=1.5 in /Users/justinlittman/JUPYTER/lib/python2.7/site-packages (from python-dateutil->twarc)\n",
      "Requirement already satisfied (use --upgrade to upgrade): requests>=2.0.0 in /Users/justinlittman/JUPYTER/lib/python2.7/site-packages (from requests-oauthlib->twarc)\n",
      "Requirement already satisfied (use --upgrade to upgrade): oauthlib>=0.6.2 in /Users/justinlittman/JUPYTER/lib/python2.7/site-packages (from requests-oauthlib->twarc)\n",
      "\u001b[33mYou are using pip version 7.1.2, however version 9.0.1 is available.\n",
      "You should consider upgrading via the 'pip install --upgrade pip' command.\u001b[0m\n"
     ]
    }
   ],
   "source": [
    "# This installs Twarc\n",
    "# !pip install twarc\n",
    "# This is temporary until https://github.com/DocNow/twarc/pull/118 is merged.\n",
    "!pip install git+https://github.com/justinlittman/twarc.git@retweets#egg=twarc\n",
    "# This imports some classes and functions that will be used later in this notebook.\n",
    "from twarc import Twarc, load_config, default_config_filename\n",
    "import json\n",
    "import codecs\n",
    "\n",
    "# This creates an instance of Twarc.\n",
    "credentials = load_config(default_config_filename(), 'main')\n",
    "t = Twarc(consumer_key=credentials['consumer_key'],\n",
    "          consumer_secret=credentials['consumer_secret'],\n",
    "          access_token=credentials['access_token'],\n",
    "          access_token_secret=credentials['access_token_secret'])\n",
    "\n",
    "# Create a summary of a tweet, only showing relevant fields.\n",
    "def summarize(tweet, extra_fields = None):\n",
    "    new_tweet = {}\n",
    "    for field, value in tweet.items():\n",
    "        if field in [\"text\", \"id_str\", \"screen_name\", \"retweet_count\", \"favorite_count\", \"in_reply_to_status_id_str\", \"in_reply_to_screen_name\", \"in_reply_to_user_id_str\"] and value is not None:\n",
    "            new_tweet[field] = value\n",
    "        elif extra_fields and field in extra_fields:\n",
    "            new_tweet[field] = value\n",
    "        elif field in [\"retweeted_status\", \"quoted_status\", \"user\"]:\n",
    "            new_tweet[field] = summarize(value)\n",
    "    return new_tweet\n",
    "\n",
    "# Print out a tweet, with optional colorizing of selected fields.\n",
    "def dump(tweet, colorize_fields=None, summarize_tweet=True):\n",
    "    colorize_field_strings = []\n",
    "    for line in json.dumps(summarize(tweet) if summarize_tweet else tweet, indent=4, sort_keys=True).splitlines():\n",
    "        colorize = False\n",
    "        for colorize_field in colorize_fields or []:\n",
    "            if \"\\\"{}\\\":\".format(colorize_field) in line:       \n",
    "                print \"\\x1b[31m\" + line + \"\\x1b[0m\"\n",
    "                break\n",
    "        else:\n",
    "            print line"
   ]
  },
  {
   "cell_type": "markdown",
   "metadata": {},
   "source": [
    "## Tweet types"
   ]
  },
  {
   "cell_type": "markdown",
   "metadata": {},
   "source": [
    "### A tweet\n",
    "\n",
    "Before examining the specific types of tweets that we're interested in, we're going to look at a plain-old tweet.\n",
    "\n",
    "Here's my first tweet."
   ]
  },
  {
   "cell_type": "code",
   "execution_count": 2,
   "metadata": {
    "collapsed": false
   },
   "outputs": [
    {
     "data": {
      "text/html": [
       "<!-- This renders embeds a tweet in the notebook. -->\n",
       "<blockquote class=\"twitter-tweet\" data-lang=\"en\"><p lang=\"en\" dir=\"ltr\">First day at Gelman Library. First tweet. <a href=\"http://t.co/Gz5ybAD6os\">pic.twitter.com/Gz5ybAD6os</a></p>&mdash; Justin Littman (@justin_littman) <a href=\"https://twitter.com/justin_littman/status/503873833213104128\">August 25, 2014</a></blockquote>\n",
       "<script async src=\"//platform.twitter.com/widgets.js\" charset=\"utf-8\"></script>"
      ],
      "text/plain": [
       "<IPython.core.display.HTML object>"
      ]
     },
     "metadata": {},
     "output_type": "display_data"
    }
   ],
   "source": [
    "%%html\n",
    "<!-- This renders embeds a tweet in the notebook. -->\n",
    "<blockquote class=\"twitter-tweet\" data-lang=\"en\"><p lang=\"en\" dir=\"ltr\">First day at Gelman Library. First tweet. <a href=\"http://t.co/Gz5ybAD6os\">pic.twitter.com/Gz5ybAD6os</a></p>&mdash; Justin Littman (@justin_littman) <a href=\"https://twitter.com/justin_littman/status/503873833213104128\">August 25, 2014</a></blockquote>\n",
    "<script async src=\"//platform.twitter.com/widgets.js\" charset=\"utf-8\"></script>"
   ]
  },
  {
   "cell_type": "markdown",
   "metadata": {},
   "source": [
    "Tweets retrieved from the Twitter API are in [JSON](http://json.org/), a simple structured text format. Below I will provide the entire tweet; in the rest of this notebook I will only provide a subset of the tweet containing the relevant fields. Twitter provides [documentation on the complete set of fields in a tweet](https://dev.twitter.com/overview/api/tweets).\n"
   ]
  },
  {
   "cell_type": "code",
   "execution_count": 3,
   "metadata": {
    "collapsed": false
   },
   "outputs": [
    {
     "name": "stdout",
     "output_type": "stream",
     "text": [
      "{\n",
      "    \"contributors\": null, \n",
      "    \"coordinates\": null, \n",
      "    \"created_at\": \"Mon Aug 25 11:57:38 +0000 2014\", \n",
      "    \"entities\": {\n",
      "        \"hashtags\": [], \n",
      "        \"media\": [\n",
      "            {\n",
      "                \"display_url\": \"pic.twitter.com/Gz5ybAD6os\", \n",
      "                \"expanded_url\": \"https://twitter.com/justin_littman/status/503873833213104128/photo/1\", \n",
      "                \"id\": 503873819560665088, \n",
      "                \"id_str\": \"503873819560665088\", \n",
      "                \"indices\": [\n",
      "                    42, \n",
      "                    64\n",
      "                ], \n",
      "                \"media_url\": \"http://pbs.twimg.com/media/Bv4ekbqIYAAcmXY.jpg\", \n",
      "                \"media_url_https\": \"https://pbs.twimg.com/media/Bv4ekbqIYAAcmXY.jpg\", \n",
      "                \"sizes\": {\n",
      "                    \"large\": {\n",
      "                        \"h\": 576, \n",
      "                        \"resize\": \"fit\", \n",
      "                        \"w\": 1024\n",
      "                    }, \n",
      "                    \"medium\": {\n",
      "                        \"h\": 338, \n",
      "                        \"resize\": \"fit\", \n",
      "                        \"w\": 600\n",
      "                    }, \n",
      "                    \"small\": {\n",
      "                        \"h\": 191, \n",
      "                        \"resize\": \"fit\", \n",
      "                        \"w\": 340\n",
      "                    }, \n",
      "                    \"thumb\": {\n",
      "                        \"h\": 150, \n",
      "                        \"resize\": \"crop\", \n",
      "                        \"w\": 150\n",
      "                    }\n",
      "                }, \n",
      "                \"type\": \"photo\", \n",
      "                \"url\": \"http://t.co/Gz5ybAD6os\"\n",
      "            }\n",
      "        ], \n",
      "        \"symbols\": [], \n",
      "        \"urls\": [], \n",
      "        \"user_mentions\": []\n",
      "    }, \n",
      "    \"extended_entities\": {\n",
      "        \"media\": [\n",
      "            {\n",
      "                \"display_url\": \"pic.twitter.com/Gz5ybAD6os\", \n",
      "                \"expanded_url\": \"https://twitter.com/justin_littman/status/503873833213104128/photo/1\", \n",
      "                \"id\": 503873819560665088, \n",
      "                \"id_str\": \"503873819560665088\", \n",
      "                \"indices\": [\n",
      "                    42, \n",
      "                    64\n",
      "                ], \n",
      "                \"media_url\": \"http://pbs.twimg.com/media/Bv4ekbqIYAAcmXY.jpg\", \n",
      "                \"media_url_https\": \"https://pbs.twimg.com/media/Bv4ekbqIYAAcmXY.jpg\", \n",
      "                \"sizes\": {\n",
      "                    \"large\": {\n",
      "                        \"h\": 576, \n",
      "                        \"resize\": \"fit\", \n",
      "                        \"w\": 1024\n",
      "                    }, \n",
      "                    \"medium\": {\n",
      "                        \"h\": 338, \n",
      "                        \"resize\": \"fit\", \n",
      "                        \"w\": 600\n",
      "                    }, \n",
      "                    \"small\": {\n",
      "                        \"h\": 191, \n",
      "                        \"resize\": \"fit\", \n",
      "                        \"w\": 340\n",
      "                    }, \n",
      "                    \"thumb\": {\n",
      "                        \"h\": 150, \n",
      "                        \"resize\": \"crop\", \n",
      "                        \"w\": 150\n",
      "                    }\n",
      "                }, \n",
      "                \"type\": \"photo\", \n",
      "                \"url\": \"http://t.co/Gz5ybAD6os\"\n",
      "            }\n",
      "        ]\n",
      "    }, \n",
      "    \"favorite_count\": 4, \n",
      "    \"favorited\": false, \n",
      "    \"geo\": null, \n",
      "    \"id\": 503873833213104128, \n",
      "    \"id_str\": \"503873833213104128\", \n",
      "    \"in_reply_to_screen_name\": null, \n",
      "    \"in_reply_to_status_id\": null, \n",
      "    \"in_reply_to_status_id_str\": null, \n",
      "    \"in_reply_to_user_id\": null, \n",
      "    \"in_reply_to_user_id_str\": null, \n",
      "    \"is_quote_status\": false, \n",
      "    \"lang\": \"en\", \n",
      "    \"place\": null, \n",
      "    \"possibly_sensitive\": false, \n",
      "    \"retweet_count\": 0, \n",
      "    \"retweeted\": false, \n",
      "    \"source\": \"<a href=\\\"http://twitter.com/download/android\\\" rel=\\\"nofollow\\\">Twitter for Android</a>\", \n",
      "    \"text\": \"First day at Gelman Library. First tweet. http://t.co/Gz5ybAD6os\", \n",
      "    \"truncated\": false, \n",
      "    \"user\": {\n",
      "        \"contributors_enabled\": false, \n",
      "        \"created_at\": \"Thu Feb 02 12:19:18 +0000 2012\", \n",
      "        \"default_profile\": true, \n",
      "        \"default_profile_image\": false, \n",
      "        \"description\": \"\", \n",
      "        \"entities\": {\n",
      "            \"description\": {\n",
      "                \"urls\": []\n",
      "            }\n",
      "        }, \n",
      "        \"favourites_count\": 206, \n",
      "        \"follow_request_sent\": false, \n",
      "        \"followers_count\": 174, \n",
      "        \"following\": false, \n",
      "        \"friends_count\": 78, \n",
      "        \"geo_enabled\": true, \n",
      "        \"has_extended_profile\": false, \n",
      "        \"id\": 481186914, \n",
      "        \"id_str\": \"481186914\", \n",
      "        \"is_translation_enabled\": false, \n",
      "        \"is_translator\": false, \n",
      "        \"lang\": \"en\", \n",
      "        \"listed_count\": 12, \n",
      "        \"location\": \"\", \n",
      "        \"name\": \"Justin Littman\", \n",
      "        \"notifications\": false, \n",
      "        \"profile_background_color\": \"C0DEED\", \n",
      "        \"profile_background_image_url\": \"http://abs.twimg.com/images/themes/theme1/bg.png\", \n",
      "        \"profile_background_image_url_https\": \"https://abs.twimg.com/images/themes/theme1/bg.png\", \n",
      "        \"profile_background_tile\": false, \n",
      "        \"profile_banner_url\": \"https://pbs.twimg.com/profile_banners/481186914/1460820528\", \n",
      "        \"profile_image_url\": \"http://pbs.twimg.com/profile_images/496478011533713408/GjecBUNj_normal.jpeg\", \n",
      "        \"profile_image_url_https\": \"https://pbs.twimg.com/profile_images/496478011533713408/GjecBUNj_normal.jpeg\", \n",
      "        \"profile_link_color\": \"1DA1F2\", \n",
      "        \"profile_sidebar_border_color\": \"C0DEED\", \n",
      "        \"profile_sidebar_fill_color\": \"DDEEF6\", \n",
      "        \"profile_text_color\": \"333333\", \n",
      "        \"profile_use_background_image\": true, \n",
      "        \"protected\": false, \n",
      "        \"screen_name\": \"justin_littman\", \n",
      "        \"statuses_count\": 481, \n",
      "        \"time_zone\": \"Eastern Time (US & Canada)\", \n",
      "        \"translator_type\": \"none\", \n",
      "        \"url\": null, \n",
      "        \"utc_offset\": -18000, \n",
      "        \"verified\": false\n",
      "    }\n",
      "}\n"
     ]
    }
   ],
   "source": [
    "# Retrieve a single tweet from the Twitter API\n",
    "tweet = list(t.hydrate(['503873833213104128']))[0]\n",
    "# Pretty-print the tweet\n",
    "dump(tweet, summarize_tweet=False)"
   ]
  },
  {
   "cell_type": "markdown",
   "metadata": {},
   "source": [
    "Here's what the summary of that same tweet:"
   ]
  },
  {
   "cell_type": "code",
   "execution_count": 4,
   "metadata": {
    "collapsed": false
   },
   "outputs": [
    {
     "name": "stdout",
     "output_type": "stream",
     "text": [
      "{\n",
      "    \"favorite_count\": 4, \n",
      "    \"id_str\": \"503873833213104128\", \n",
      "    \"retweet_count\": 0, \n",
      "    \"text\": \"First day at Gelman Library. First tweet. http://t.co/Gz5ybAD6os\", \n",
      "    \"user\": {\n",
      "        \"id_str\": \"481186914\", \n",
      "        \"screen_name\": \"justin_littman\"\n",
      "    }\n",
      "}\n"
     ]
    }
   ],
   "source": [
    "dump(tweet)"
   ]
  },
  {
   "cell_type": "markdown",
   "metadata": {},
   "source": [
    "### A tweet that has been retweeted\n",
    "\n",
    "First, we want to look at a tweet that has been retweeted.  I'll choose this one from my user timeline:"
   ]
  },
  {
   "cell_type": "code",
   "execution_count": 5,
   "metadata": {
    "collapsed": false,
    "scrolled": true
   },
   "outputs": [
    {
     "data": {
      "text/html": [
       "<blockquote class=\"twitter-tweet\" data-lang=\"en\"><p lang=\"en\" dir=\"ltr\">.<a href=\"https://twitter.com/DameWendyDBE\">@DameWendyDBE</a>: Invest in data science training for librarians.  In future, libraries will be data warehouses. <a href=\"https://twitter.com/hashtag/SaveTheWeb?src=hash\">#SaveTheWeb</a></p>&mdash; Justin Littman (@justin_littman) <a href=\"https://twitter.com/justin_littman/status/743520583518920704\">June 16, 2016</a></blockquote>\n",
       "<script async src=\"//platform.twitter.com/widgets.js\" charset=\"utf-8\"></script>"
      ],
      "text/plain": [
       "<IPython.core.display.HTML object>"
      ]
     },
     "metadata": {},
     "output_type": "display_data"
    }
   ],
   "source": [
    "%%html\n",
    "<blockquote class=\"twitter-tweet\" data-lang=\"en\"><p lang=\"en\" dir=\"ltr\">.<a href=\"https://twitter.com/DameWendyDBE\">@DameWendyDBE</a>: Invest in data science training for librarians.  In future, libraries will be data warehouses. <a href=\"https://twitter.com/hashtag/SaveTheWeb?src=hash\">#SaveTheWeb</a></p>&mdash; Justin Littman (@justin_littman) <a href=\"https://twitter.com/justin_littman/status/743520583518920704\">June 16, 2016</a></blockquote>\n",
    "<script async src=\"//platform.twitter.com/widgets.js\" charset=\"utf-8\"></script>"
   ]
  },
  {
   "cell_type": "markdown",
   "metadata": {},
   "source": [
    "Let's retrieve the JSON for this tweet from the Twitter API."
   ]
  },
  {
   "cell_type": "code",
   "execution_count": 6,
   "metadata": {
    "collapsed": false,
    "scrolled": false
   },
   "outputs": [
    {
     "name": "stdout",
     "output_type": "stream",
     "text": [
      "{\n",
      "    \"favorite_count\": 12, \n",
      "    \"id_str\": \"743520583518920704\", \n",
      "\u001b[31m    \"retweet_count\": 19, \u001b[0m\n",
      "    \"text\": \".@DameWendyDBE: Invest in data science training for librarians.  In future, libraries will be data warehouses. #SaveTheWeb\", \n",
      "    \"user\": {\n",
      "        \"id_str\": \"481186914\", \n",
      "        \"screen_name\": \"justin_littman\"\n",
      "    }\n",
      "}\n"
     ]
    }
   ],
   "source": [
    "tweet = list(t.hydrate(['743520583518920704']))[0]\n",
    "dump(tweet, colorize_fields=['retweet_count'])"
   ]
  },
  {
   "cell_type": "markdown",
   "metadata": {},
   "source": [
    "The relevant field is *retweet_count*. This field provides the number of times this tweet was retweeted. Note that this number may vary over time, as additional people retweet the tweet."
   ]
  },
  {
   "cell_type": "markdown",
   "metadata": {},
   "source": [
    "### A tweet that is a retweet\n",
    "Second, we want to look at a tweet that is a retweet. I'll also choose this one from my user timeline:"
   ]
  },
  {
   "cell_type": "code",
   "execution_count": 7,
   "metadata": {
    "collapsed": false
   },
   "outputs": [
    {
     "data": {
      "text/html": [
       "<blockquote class=\"twitter-tweet\" data-lang=\"en\"><p lang=\"en\" dir=\"ltr\">Reproducible Research: Citing your execution env using <a href=\"https://twitter.com/docker\">@Docker</a> and a DOI: <a href=\"https://t.co/S4DChzE9Au\">https://t.co/S4DChzE9Au</a> via <a href=\"https://twitter.com/SoftwareSaved\">@SoftwareSaved</a> <a href=\"https://t.co/SPMcKa35J4\">pic.twitter.com/SPMcKa35J4</a></p>&mdash; Docker (@docker) <a href=\"https://twitter.com/docker/status/720856949407940608\">April 15, 2016</a></blockquote>\n",
       "<script async src=\"//platform.twitter.com/widgets.js\" charset=\"utf-8\"></script>"
      ],
      "text/plain": [
       "<IPython.core.display.HTML object>"
      ]
     },
     "metadata": {},
     "output_type": "display_data"
    }
   ],
   "source": [
    "%%html\n",
    "<blockquote class=\"twitter-tweet\" data-lang=\"en\"><p lang=\"en\" dir=\"ltr\">Reproducible Research: Citing your execution env using <a href=\"https://twitter.com/docker\">@Docker</a> and a DOI: <a href=\"https://t.co/S4DChzE9Au\">https://t.co/S4DChzE9Au</a> via <a href=\"https://twitter.com/SoftwareSaved\">@SoftwareSaved</a> <a href=\"https://t.co/SPMcKa35J4\">pic.twitter.com/SPMcKa35J4</a></p>&mdash; Docker (@docker) <a href=\"https://twitter.com/docker/status/720856949407940608\">April 15, 2016</a></blockquote>\n",
    "<script async src=\"//platform.twitter.com/widgets.js\" charset=\"utf-8\"></script>"
   ]
  },
  {
   "cell_type": "markdown",
   "metadata": {},
   "source": [
    "Here is the JSON from the Twitter API."
   ]
  },
  {
   "cell_type": "code",
   "execution_count": 8,
   "metadata": {
    "collapsed": false
   },
   "outputs": [
    {
     "name": "stdout",
     "output_type": "stream",
     "text": [
      "{\n",
      "    \"favorite_count\": 0, \n",
      "    \"id_str\": \"724575206937899008\", \n",
      "\u001b[31m    \"retweet_count\": 42, \u001b[0m\n",
      "\u001b[31m    \"retweeted_status\": {\u001b[0m\n",
      "        \"favorite_count\": 39, \n",
      "        \"id_str\": \"720856949407940608\", \n",
      "\u001b[31m        \"retweet_count\": 42, \u001b[0m\n",
      "        \"text\": \"Reproducible Research: Citing your execution env using @Docker and a DOI: https://t.co/S4DChzE9Au via @SoftwareSaved https://t.co/SPMcKa35J4\", \n",
      "        \"user\": {\n",
      "            \"id_str\": \"1138959692\", \n",
      "            \"screen_name\": \"docker\"\n",
      "        }\n",
      "    }, \n",
      "    \"text\": \"RT @docker: Reproducible Research: Citing your execution env using @Docker and a DOI: https://t.co/S4DChzE9Au via @SoftwareSaved https://t.\\u2026\", \n",
      "    \"user\": {\n",
      "        \"id_str\": \"481186914\", \n",
      "        \"screen_name\": \"justin_littman\"\n",
      "    }\n",
      "}\n"
     ]
    }
   ],
   "source": [
    "tweet = list(t.hydrate(['724575206937899008']))[0]\n",
    "dump(tweet, colorize_fields=['retweeted_status', 'retweet_count'])"
   ]
  },
  {
   "cell_type": "markdown",
   "metadata": {},
   "source": [
    "Two fields are significant. First, the *retweeted_status* contains the source tweet (i.e., the tweet that was retweeted). The present or absence of this field can be used to identify tweets that are retweets. Second, the *retweet_count* is the count of the retweets of the source tweet, not this tweet."
   ]
  },
  {
   "cell_type": "markdown",
   "metadata": {},
   "source": [
    "### A tweet that is a retweet of a retweet\n",
    "As a corollary to our look at a retweet, let's look at a tweet that is a retweet of a retweet. (I'll refer to this as a second order retweet.) Here's a tweet that I retweeted from my @jlittman_dev account that was a retweet from my @justin_littman account of a source tweet from @SocialFeedMgr."
   ]
  },
  {
   "cell_type": "code",
   "execution_count": 9,
   "metadata": {
    "collapsed": false
   },
   "outputs": [
    {
     "name": "stdout",
     "output_type": "stream",
     "text": [
      "{\n",
      "    \"favorite_count\": 0, \n",
      "    \"id_str\": \"794490469627686913\", \n",
      "\u001b[31m    \"retweet_count\": 8, \u001b[0m\n",
      "\u001b[31m    \"retweeted_status\": {\u001b[0m\n",
      "        \"favorite_count\": 4, \n",
      "        \"id_str\": \"793896478037114880\", \n",
      "\u001b[31m        \"retweet_count\": 8, \u001b[0m\n",
      "        \"text\": \"Software doesn't live forever. How to get collections OUT of Social Feed Manager, a new blog post by @justin_littman https://t.co/CagQvSF7pJ\", \n",
      "        \"user\": {\n",
      "            \"id_str\": \"713856598079315968\", \n",
      "            \"screen_name\": \"SocialFeedMgr\"\n",
      "        }\n",
      "    }, \n",
      "    \"text\": \"RT @SocialFeedMgr: Software doesn't live forever. How to get collections OUT of Social Feed Manager, a new blog post by @justin_littman htt\\u2026\", \n",
      "    \"user\": {\n",
      "        \"id_str\": \"2875189485\", \n",
      "        \"screen_name\": \"jlittman_dev\"\n",
      "    }\n",
      "}\n"
     ]
    }
   ],
   "source": [
    "tweet = list(t.hydrate(['794490469627686913']))[0]\n",
    "dump(tweet, colorize_fields=['retweet_count', 'retweeted_status'])"
   ]
  },
  {
   "cell_type": "markdown",
   "metadata": {},
   "source": [
    "The second order tweet is treated as if it is a retweet of the source tweet. The *retweet_count* of the source tweet is incremented and the *retweeted_status* that appears in the second order tweet is the source tweet. There is no indication that this is a retweet of a retweet. Thus, in reconstructing interaction, you can't determine from who a user discovered a tweet that she later retweeted."
   ]
  },
  {
   "cell_type": "markdown",
   "metadata": {},
   "source": [
    "### A tweet that has been quoted\n",
    "Third, we want to consider a tweet that has been quoted. A quote tweet is a retweet that contains some additional text.\n",
    "\n",
    "To test this, I [quoted my first tweet](https://twitter.com/jlittman_dev/status/727930772691292161) from a different twitter account (@jlittman_dev)."
   ]
  },
  {
   "cell_type": "code",
   "execution_count": 10,
   "metadata": {
    "collapsed": false
   },
   "outputs": [
    {
     "name": "stdout",
     "output_type": "stream",
     "text": [
      "{\n",
      "    \"favorite_count\": 4, \n",
      "    \"id_str\": \"503873833213104128\", \n",
      "    \"retweet_count\": 0, \n",
      "    \"text\": \"First day at Gelman Library. First tweet. http://t.co/Gz5ybAD6os\", \n",
      "    \"user\": {\n",
      "        \"id_str\": \"481186914\", \n",
      "        \"screen_name\": \"justin_littman\"\n",
      "    }\n",
      "}\n"
     ]
    }
   ],
   "source": [
    "tweet = list(t.hydrate(['503873833213104128']))[0]\n",
    "dump(summarize(tweet))"
   ]
  },
  {
   "cell_type": "markdown",
   "metadata": {},
   "source": [
    "There is nothing in the tweet to indicate that it has been quoted. This is similar to what you find on Twitter website: if you look at the [full rendering of this tweet](https://twitter.com/justin_littman/status/503873833213104128), there is no indication that it was quoted.\n",
    "\n",
    "Quotes don't count as a retweet, as the *retweet_count* on the source tweet is 0.\n"
   ]
  },
  {
   "cell_type": "markdown",
   "metadata": {},
   "source": [
    "### A tweet that is a quote\n",
    "Fourth, we want to look at a tweet that is a quote."
   ]
  },
  {
   "cell_type": "code",
   "execution_count": 11,
   "metadata": {
    "collapsed": false
   },
   "outputs": [
    {
     "data": {
      "text/html": [
       "<blockquote class=\"twitter-tweet\" data-lang=\"en\"><p lang=\"en\" dir=\"ltr\">Let us know what can add to <a href=\"https://twitter.com/SocialFeedMgr\">@SocialFeedMgr</a> docs to take the &quot;crash&quot; out of &quot;crash course&quot; <a href=\"https://twitter.com/ianmilligan1\">@ianmilligan1</a>. And all other feedback welcome. <a href=\"https://t.co/BbjOLSvdCm\">https://t.co/BbjOLSvdCm</a></p>&mdash; Justin Littman (@justin_littman) <a href=\"https://twitter.com/justin_littman/status/794162076717613056\">November 3, 2016</a></blockquote>\n",
       "<script async src=\"//platform.twitter.com/widgets.js\" charset=\"utf-8\"></script>"
      ],
      "text/plain": [
       "<IPython.core.display.HTML object>"
      ]
     },
     "metadata": {},
     "output_type": "display_data"
    }
   ],
   "source": [
    "%%html\n",
    "<blockquote class=\"twitter-tweet\" data-lang=\"en\"><p lang=\"en\" dir=\"ltr\">Let us know what can add to <a href=\"https://twitter.com/SocialFeedMgr\">@SocialFeedMgr</a> docs to take the &quot;crash&quot; out of &quot;crash course&quot; <a href=\"https://twitter.com/ianmilligan1\">@ianmilligan1</a>. And all other feedback welcome. <a href=\"https://t.co/BbjOLSvdCm\">https://t.co/BbjOLSvdCm</a></p>&mdash; Justin Littman (@justin_littman) <a href=\"https://twitter.com/justin_littman/status/794162076717613056\">November 3, 2016</a></blockquote>\n",
    "<script async src=\"//platform.twitter.com/widgets.js\" charset=\"utf-8\"></script>"
   ]
  },
  {
   "cell_type": "code",
   "execution_count": 12,
   "metadata": {
    "collapsed": false
   },
   "outputs": [
    {
     "name": "stdout",
     "output_type": "stream",
     "text": [
      "{\n",
      "    \"favorite_count\": 4, \n",
      "    \"id_str\": \"794162076717613056\", \n",
      "\u001b[31m    \"quoted_status\": {\u001b[0m\n",
      "        \"favorite_count\": 11, \n",
      "        \"id_str\": \"794000147130687488\", \n",
      "        \"retweet_count\": 1, \n",
      "        \"text\": \"Well, it was a crash course in some AWS things and Docker, but got Social Feed Manager up and running on Amazon! https://t.co/empcsmLSSt\", \n",
      "        \"user\": {\n",
      "            \"id_str\": \"255681367\", \n",
      "            \"screen_name\": \"ianmilligan1\"\n",
      "        }\n",
      "    }, \n",
      "\u001b[31m    \"quoted_status_id\": 794000147130687488, \u001b[0m\n",
      "\u001b[31m    \"quoted_status_id_str\": \"794000147130687488\", \u001b[0m\n",
      "    \"retweet_count\": 1, \n",
      "    \"text\": \"Let us know what can add to @SocialFeedMgr docs to take the \\\"crash\\\" out of \\\"crash course\\\" @ianmilligan1. And all ot\\u2026 https://t.co/eA0qLGu8ht\", \n",
      "    \"user\": {\n",
      "        \"id_str\": \"481186914\", \n",
      "        \"screen_name\": \"justin_littman\"\n",
      "    }\n",
      "}\n"
     ]
    }
   ],
   "source": [
    "tweet = list(t.hydrate(['794162076717613056']))[0]\n",
    "dump(summarize(tweet, extra_fields=['quoted_status_id', 'quoted_status_id_str']), colorize_fields=['quoted_status', 'quoted_status_id', 'quoted_status_id_str'], summarize_tweet=False)"
   ]
  },
  {
   "cell_type": "markdown",
   "metadata": {},
   "source": [
    "The relevant field in this quote tweet is *quoted_status*, which contains the source tweet. *quoted_status_id* and *quoted_status_id_str* are the tweet id of the source tweet, which is redundant of the tweet id contained in *quoted_status*."
   ]
  },
  {
   "cell_type": "markdown",
   "metadata": {},
   "source": [
    "### A tweet that has been replied\n",
    "Fifth, we want to look at a tweet to which another user has replied. Here's a tweet that I posted, to which @jefferson_bail replied:"
   ]
  },
  {
   "cell_type": "code",
   "execution_count": 13,
   "metadata": {
    "collapsed": false
   },
   "outputs": [
    {
     "data": {
      "text/html": [
       "<blockquote class=\"twitter-tweet\" data-lang=\"en\"><p lang=\"en\" dir=\"ltr\">Yesterday I learned about the <a href=\"https://twitter.com/jefferson_bail\">@jefferson_bail</a> test for projects: Is it sufficiently &quot;do-goody and feel-goody&quot;?</p>&mdash; Justin Littman (@justin_littman) <a href=\"https://twitter.com/justin_littman/status/789411809807572992\">October 21, 2016</a></blockquote>\n",
       "<script async src=\"//platform.twitter.com/widgets.js\" charset=\"utf-8\"></script>"
      ],
      "text/plain": [
       "<IPython.core.display.HTML object>"
      ]
     },
     "metadata": {},
     "output_type": "display_data"
    }
   ],
   "source": [
    "%%html\n",
    "<blockquote class=\"twitter-tweet\" data-lang=\"en\"><p lang=\"en\" dir=\"ltr\">Yesterday I learned about the <a href=\"https://twitter.com/jefferson_bail\">@jefferson_bail</a> test for projects: Is it sufficiently &quot;do-goody and feel-goody&quot;?</p>&mdash; Justin Littman (@justin_littman) <a href=\"https://twitter.com/justin_littman/status/789411809807572992\">October 21, 2016</a></blockquote>\n",
    "<script async src=\"//platform.twitter.com/widgets.js\" charset=\"utf-8\"></script>"
   ]
  },
  {
   "cell_type": "markdown",
   "metadata": {},
   "source": [
    "There is nothing to indicate that this tweet has a reply."
   ]
  },
  {
   "cell_type": "markdown",
   "metadata": {},
   "source": [
    "### A tweet that is a reply\n",
    "Sixth, we want to look at a tweet that is a reply to another tweet. Here's @jefferson_bail's response to my tweet:"
   ]
  },
  {
   "cell_type": "code",
   "execution_count": 14,
   "metadata": {
    "collapsed": false
   },
   "outputs": [
    {
     "data": {
      "text/html": [
       "<blockquote class=\"twitter-tweet\" data-lang=\"en\"><p lang=\"en\" dir=\"ltr\"><a href=\"https://twitter.com/justin_littman\">@justin_littman</a> Ha! I don&#39;t even remember what I was talking about. I believe that was my fifth meeting in a row starting at 7am, so...</p>&mdash; Jefferson Bailey (@jefferson_bail) <a href=\"https://twitter.com/jefferson_bail/status/789486128189444096\">October 21, 2016</a></blockquote>\n",
       "<script async src=\"//platform.twitter.com/widgets.js\" charset=\"utf-8\"></script>"
      ],
      "text/plain": [
       "<IPython.core.display.HTML object>"
      ]
     },
     "metadata": {},
     "output_type": "display_data"
    }
   ],
   "source": [
    "%%html\n",
    "<blockquote class=\"twitter-tweet\" data-lang=\"en\"><p lang=\"en\" dir=\"ltr\"><a href=\"https://twitter.com/justin_littman\">@justin_littman</a> Ha! I don&#39;t even remember what I was talking about. I believe that was my fifth meeting in a row starting at 7am, so...</p>&mdash; Jefferson Bailey (@jefferson_bail) <a href=\"https://twitter.com/jefferson_bail/status/789486128189444096\">October 21, 2016</a></blockquote>\n",
    "<script async src=\"//platform.twitter.com/widgets.js\" charset=\"utf-8\"></script>"
   ]
  },
  {
   "cell_type": "code",
   "execution_count": 15,
   "metadata": {
    "collapsed": false
   },
   "outputs": [
    {
     "name": "stdout",
     "output_type": "stream",
     "text": [
      "{\n",
      "    \"favorite_count\": 0, \n",
      "    \"id_str\": \"789486128189444096\", \n",
      "\u001b[31m    \"in_reply_to_screen_name\": \"justin_littman\", \u001b[0m\n",
      "\u001b[31m    \"in_reply_to_status_id_str\": \"789411809807572992\", \u001b[0m\n",
      "\u001b[31m    \"in_reply_to_user_id\": 481186914, \u001b[0m\n",
      "\u001b[31m    \"in_reply_to_user_id_str\": \"481186914\", \u001b[0m\n",
      "    \"retweet_count\": 0, \n",
      "    \"text\": \"@justin_littman Ha! I don't even remember what I was talking about. I believe that was my fifth meeting in a row starting at 7am, so...\", \n",
      "    \"user\": {\n",
      "        \"id_str\": \"346054122\", \n",
      "        \"screen_name\": \"jefferson_bail\"\n",
      "    }\n",
      "}\n"
     ]
    }
   ],
   "source": [
    "tweet = list(t.hydrate(['789486128189444096']))[0]\n",
    "dump(summarize(tweet, extra_fields=['in_reply_to_status_id_str', 'in_reply_to_user_id']), colorize_fields=['in_reply_to_status_id', 'in_reply_to_status_id_str', 'in_reply_to_screen_name', 'in_reply_to_user_id', 'in_reply_to_user_id_str'], summarize_tweet=False)"
   ]
  },
  {
   "cell_type": "markdown",
   "metadata": {},
   "source": [
    "The relevant fields in a reply tweet are *in_reply_to_status_id*, *in_reply_to_status_id_str*, *in_reply_to_screen_name*, *in_reply_to_user_id*, *in_reply_to_user_id_str*. The names of each of these fields reasonably describe their contents. The most significant of these is *in_reply_to_status_id*, which supports finding the tweet to which the reply tweet is a reply.\n",
    "\n",
    "Thus, based on the metadata that is provided for a tweet, a chain of replies can be followed backwards from the reply tweet to the replied to tweet, but not vice versa, i.e., from the replied to tweet to the reply tweet."
   ]
  },
  {
   "cell_type": "markdown",
   "metadata": {},
   "source": [
    "### A tweet that is favorited\n",
    "Here is the most favorited tweet from my user timeline:"
   ]
  },
  {
   "cell_type": "code",
   "execution_count": 16,
   "metadata": {
    "collapsed": false
   },
   "outputs": [
    {
     "data": {
      "text/html": [
       "<blockquote class=\"twitter-tweet\" data-lang=\"en\"><p lang=\"en\" dir=\"ltr\">Slides from my <a href=\"https://twitter.com/hashtag/iipcWAC16?src=hash\">#iipcWAC16</a> presentation on aligning social media archiving and web archiving: <a href=\"https://t.co/Rj8LEbBOp8\">https://t.co/Rj8LEbBOp8</a></p>&mdash; Justin Littman (@justin_littman) <a href=\"https://twitter.com/justin_littman/status/720621197550071808\">April 14, 2016</a></blockquote>\n",
       "<script async src=\"//platform.twitter.com/widgets.js\" charset=\"utf-8\"></script>"
      ],
      "text/plain": [
       "<IPython.core.display.HTML object>"
      ]
     },
     "metadata": {},
     "output_type": "display_data"
    }
   ],
   "source": [
    "%%html\n",
    "<blockquote class=\"twitter-tweet\" data-lang=\"en\"><p lang=\"en\" dir=\"ltr\">Slides from my <a href=\"https://twitter.com/hashtag/iipcWAC16?src=hash\">#iipcWAC16</a> presentation on aligning social media archiving and web archiving: <a href=\"https://t.co/Rj8LEbBOp8\">https://t.co/Rj8LEbBOp8</a></p>&mdash; Justin Littman (@justin_littman) <a href=\"https://twitter.com/justin_littman/status/720621197550071808\">April 14, 2016</a></blockquote>\n",
    "<script async src=\"//platform.twitter.com/widgets.js\" charset=\"utf-8\"></script>"
   ]
  },
  {
   "cell_type": "code",
   "execution_count": 17,
   "metadata": {
    "collapsed": false
   },
   "outputs": [
    {
     "name": "stdout",
     "output_type": "stream",
     "text": [
      "{\n",
      "\u001b[31m    \"favorite_count\": 14, \u001b[0m\n",
      "    \"id_str\": \"720621197550071808\", \n",
      "    \"retweet_count\": 13, \n",
      "    \"text\": \"Slides from my #iipcWAC16 presentation on aligning social media archiving and web archiving: https://t.co/Rj8LEbBOp8\", \n",
      "    \"user\": {\n",
      "        \"id_str\": \"481186914\", \n",
      "        \"screen_name\": \"justin_littman\"\n",
      "    }\n",
      "}\n"
     ]
    }
   ],
   "source": [
    "tweet = list(t.hydrate(['720621197550071808']))[0]\n",
    "dump(tweet, colorize_fields=['favorite_count'])"
   ]
  },
  {
   "cell_type": "markdown",
   "metadata": {},
   "source": [
    "The *favorite_count* provides the number of times the tweet has been favorited.\n",
    "\n",
    "In the case of a retweet, *favorite_count* is the favorite count of the source tweet. (This is similar to *retweet_count*.)"
   ]
  },
  {
   "cell_type": "markdown",
   "metadata": {},
   "source": [
    "## The Twitter API\n",
    "In this section, we look at the various methods in Twitter's APIs that are relevant to retweets, replies, quotes, and favorites."
   ]
  },
  {
   "cell_type": "markdown",
   "metadata": {},
   "source": [
    "### GET statuses/show/:id and GET statuses/lookup\n",
    "[GET statuses/show/:id](https://dev.twitter.com/rest/reference/get/statuses/show/id) is used to retrieve a single tweet by tweet id. [GET statuses/lookup](https://dev.twitter.com/rest/reference/get/statuses/lookup) is used to retrieve multiple tweets by tweet ids.\n",
    "\n",
    "In the above examples, GET statuses/lookup using only a single tweet id was used to retrieve the tweets."
   ]
  },
  {
   "cell_type": "markdown",
   "metadata": {},
   "source": [
    "### GET statuses/user_timeline\n",
    "[GET statuses/user_timeline](https://dev.twitter.com/rest/reference/get/statuses/user_timeline) retrieves a user timeline given a screen name or user id. This is one of the primary methods for collecting social media data.\n",
    "\n",
    "While GET statuses/user_timeline supports getting tweets from the past, it is limited to the last 3,200 tweets.\n",
    "\n",
    "To test this, we will retrieve the user timeline of @jlittman_dev and looks for retweets, quotes, replies, favorited tweets, and retweeted tweets."
   ]
  },
  {
   "cell_type": "code",
   "execution_count": 18,
   "metadata": {
    "collapsed": false
   },
   "outputs": [
    {
     "name": "stdout",
     "output_type": "stream",
     "text": [
      "795976980416098304 is a reply to 795976763809693696 by jlittman_dev2\n",
      "795975981370576896 is a reply to 795975688981544960 by jlittman_dev2\n",
      "795974800028082176 is a quote.\n",
      "795972820413140992 has been retweeted 2 times.\n",
      "795972820413140992 has been favorited 1 times.\n",
      "794629362972815361 is a reply to 793892668606676994 by justin_littman\n",
      "794490469627686913 is a retweet.\n",
      "794490469627686913 has been retweeted 8 times.\n",
      "727933040803057667 is a retweet.\n",
      "727933040803057667 has been retweeted 2 times.\n",
      "727930772691292161 is a quote.\n",
      "577868461440823296 has been favorited 1 times.\n",
      "Found retweet: True\n",
      "Found quote: True\n",
      "Found reply: True\n",
      "Found favorited: True\n",
      "Found retweeted: True\n"
     ]
    }
   ],
   "source": [
    "found_retweet = False\n",
    "found_quote = False\n",
    "found_reply = False\n",
    "found_favorited = False\n",
    "found_retweeted = False\n",
    "for tweet in t.timeline(screen_name='jlittman_dev'):\n",
    "    if 'retweeted_status' in tweet:\n",
    "        print \"{} is a retweet.\".format(tweet['id_str'])\n",
    "        found_retweet = True\n",
    "    if 'quoted_status' in tweet:\n",
    "        print \"{} is a quote.\".format(tweet['id_str'])\n",
    "        found_quote = True\n",
    "    if tweet['in_reply_to_status_id']:\n",
    "        print \"{} is a reply to {} by {}\".format(tweet['id_str'], tweet['in_reply_to_status_id_str'], tweet['in_reply_to_screen_name'])\n",
    "        found_reply = True\n",
    "    if tweet['retweet_count'] > 0:\n",
    "        print \"{} has been retweeted {} times.\".format(tweet['id_str'], tweet['retweet_count'])\n",
    "        found_retweeted = True\n",
    "    if tweet['favorite_count'] > 0:\n",
    "        print \"{} has been favorited {} times.\".format(tweet['id_str'], tweet['favorite_count'])\n",
    "        found_favorited = True\n",
    "print \"Found retweet: {}\".format(found_retweet)\n",
    "print \"Found quote: {}\".format(found_quote)\n",
    "print \"Found reply: {}\".format(found_reply)\n",
    "print \"Found favorited: {}\".format(found_favorited)\n",
    "print \"Found retweeted: {}\".format(found_retweeted)"
   ]
  },
  {
   "cell_type": "markdown",
   "metadata": {},
   "source": [
    "This demonstrates that the following are available from the user timeline:\n",
    "* retweets by the user\n",
    "* quotes by the user\n",
    "* replies by the user\n",
    "* favorited tweets\n",
    "* retweeted tweets\n",
    "\n",
    "Other than the counts for favorited tweets and retweeted tweets, it does not include the tweets of other users such as quotes of this user or replies to tweets of this user."
   ]
  },
  {
   "cell_type": "markdown",
   "metadata": {},
   "source": [
    "### GET statuses/retweets/:id\n",
    "\n",
    "[GET statuses/retweets/:id](https://dev.twitter.com/rest/reference/get/statuses/retweets/id) returns the most recent retweets for a tweet. Only the most recent 100 retweets are available.\n",
    "\n",
    "To test this, let's compare the *retweet_count* against the number of tweets returned by GET statuses/retweets/:id for that tweet."
   ]
  },
  {
   "cell_type": "code",
   "execution_count": 19,
   "metadata": {
    "collapsed": false
   },
   "outputs": [
    {
     "name": "stdout",
     "output_type": "stream",
     "text": [
      "The retweet count is 19\n",
      "Retrieved 19 retweets\n"
     ]
    }
   ],
   "source": [
    "tweet = list(t.hydrate(['743520583518920704']))[0]\n",
    "print \"The retweet count is {}\".format(tweet['retweet_count'])\n",
    "retweets = t.retweets('743520583518920704')\n",
    "print \"Retrieved {} retweets\".format(len(list(retweets)))"
   ]
  },
  {
   "cell_type": "markdown",
   "metadata": {},
   "source": [
    "### GET statuses/retweeters/ids\n",
    "\n",
    "[GET statuses/retweeters/ids](https://dev.twitter.com/rest/reference/get/statuses/retweeters/ids) retrieves the user ids that retweeted a tweet."
   ]
  },
  {
   "cell_type": "markdown",
   "metadata": {},
   "source": [
    "### GET search/tweets\n",
    "[GET search/tweets](https://dev.twitter.com/rest/reference/get/search/tweets) (also known as the [Twitter Search API](https://dev.twitter.com/rest/public/search)) allows searching \"against a sampling of recent Tweets published in the past 7 days.\"\n",
    "\n",
    "Some of the query parameters that are relevant to retweets, quotes, and replies are:\n",
    "\n",
    "* *from* for tweets posted by a user, e.g., from:justin_littman\n",
    "* *to* for tweets that are a reply to the user, e.g., to:justin_littman\n",
    "* *@* for tweets mentioning that screen name, e.g., @justin_littman\n",
    "\n",
    "Because the Search API is time limited and an unknown size sample, it will not be further explored in this notebook."
   ]
  },
  {
   "cell_type": "markdown",
   "metadata": {},
   "source": [
    "### POST statuses/filter\n",
    "[POST statuses/filter](https://dev.twitter.com/streaming/reference/post/statuses/filter) allows filtering of the stream of tweets on the Twitter platform by keywords ([track](https://dev.twitter.com/streaming/overview/request-parameters#track)), users ([follow](https://dev.twitter.com/streaming/overview/request-parameters#follow)), and geolocation ([location](https://dev.twitter.com/streaming/overview/request-parameters#location)).\n",
    "\n",
    "POST statuses/filter only allows collecting tweets moving forward; it cannot be used to retrieve past tweets.\n",
    "\n",
    "#### Follow parameter\n",
    "For this test, I will use the follow parameter to determine what is captured when following a user. Note that the follow parameter takes a list of user ids. User ids do not change (unlike screen names).\n",
    "\n",
    "Because this test requires creating tweets from multiple accounts and recording the filter stream, it will not be performed live in this notebook. Rather, I used Twarc to record the filter stream of @jlittman_dev (user id 2875189485):\n",
    "\n",
    "    twarc.py --follow 2875189485 > follow.json\n",
    "    \n",
    "I then performed the following actions on the Twitter website:\n",
    "\n",
    "1. @jlittman_dev: Posted [a tweet](https://twitter.com/jlittman_dev/status/795972820413140992).\n",
    "2. @jlittman_dev2: Retweeted @jlittman_dev's tweet from step 1.\n",
    "3. @jlittman_dev2: Posted [a tweet](https://twitter.com/jlittman_dev2/status/795974171754897409).\n",
    "4. @jlittman_dev: [Quotes @jlittman_dev's tweet](https://twitter.com/jlittman_dev/status/795974800028082176) from step 3.\n",
    "5. @jlittman_dev2: [Quoted](https://twitter.com/jlittman_dev2/status/795975523625299968) [a tweet by @jlittman_dev](https://twitter.com/jlittman_dev/status/795972351250796545).\n",
    "6. @jlittman_dev2: [Replied](https://twitter.com/jlittman_dev2/status/795975688981544960) to [a tweet by @jlittman_dev](https://twitter.com/jlittman_dev/status/795972351250796545).\n",
    "7. @jlittman_dev: [Replied to the reply](https://twitter.com/jlittman_dev/status/795974800028082176) of @jlittman_dev2 from step 6.\n",
    "8. @jlittman_dev: [Replied](https://twitter.com/jlittman_dev/status/795976980416098304) to [a tweet by @jlittman_dev2](https://twitter.com/jlittman_dev2/status/795976763809693696).\n",
    "\n",
    "We will now look at the tweets that were captured by the filter stream."
   ]
  },
  {
   "cell_type": "markdown",
   "metadata": {},
   "source": [
    "The first tweet is the tweet posted by @jlittman_dev in step 1. Thus, tweets by the followed user are captured."
   ]
  },
  {
   "cell_type": "code",
   "execution_count": 20,
   "metadata": {
    "collapsed": false,
    "scrolled": true
   },
   "outputs": [
    {
     "name": "stdout",
     "output_type": "stream",
     "text": [
      "6\n",
      "{\n",
      "    \"favorite_count\": 0, \n",
      "    \"id_str\": \"795972820413140992\", \n",
      "    \"retweet_count\": 0, \n",
      "    \"text\": \"This for testing how the Twitter stream API filters tweets.\", \n",
      "    \"user\": {\n",
      "        \"id_str\": \"2875189485\", \n",
      "        \"screen_name\": \"jlittman_dev\"\n",
      "    }\n",
      "}\n"
     ]
    }
   ],
   "source": [
    "# Load the tweets\n",
    "with codecs.open('./follow.json', 'r') as f:\n",
    "    lines = f.readlines()\n",
    "# Print the number of tweets\n",
    "print len(lines)\n",
    "# Print the first tweet\n",
    "tweet1 = json.loads(lines[0])\n",
    "dump(tweet1)"
   ]
  },
  {
   "cell_type": "markdown",
   "metadata": {},
   "source": [
    "The second tweet is @jlittman_dev2's retweet of @jlittman_dev's tweet. This is step 2, showing that retweets by other users of tweets by the followed user are captured. "
   ]
  },
  {
   "cell_type": "code",
   "execution_count": 21,
   "metadata": {
    "collapsed": false
   },
   "outputs": [
    {
     "name": "stdout",
     "output_type": "stream",
     "text": [
      "{\n",
      "    \"favorite_count\": 0, \n",
      "    \"id_str\": \"795973981035778053\", \n",
      "    \"retweet_count\": 0, \n",
      "    \"retweeted_status\": {\n",
      "        \"favorite_count\": 0, \n",
      "        \"id_str\": \"795972820413140992\", \n",
      "        \"retweet_count\": 1, \n",
      "        \"text\": \"This for testing how the Twitter stream API filters tweets.\", \n",
      "        \"user\": {\n",
      "            \"id_str\": \"2875189485\", \n",
      "            \"screen_name\": \"jlittman_dev\"\n",
      "        }\n",
      "    }, \n",
      "    \"text\": \"RT @jlittman_dev: This for testing how the Twitter stream API filters tweets.\", \n",
      "    \"user\": {\n",
      "        \"id_str\": \"795968058280083456\", \n",
      "        \"screen_name\": \"jlittman_dev2\"\n",
      "    }\n",
      "}\n"
     ]
    }
   ],
   "source": [
    "# Print the second tweet\n",
    "tweet2 = json.loads(lines[1])\n",
    "dump(tweet2)"
   ]
  },
  {
   "cell_type": "markdown",
   "metadata": {},
   "source": [
    "The third tweet is the quote by @jlittman_dev of @jlittman_dev2 tweet. This is step 4, showing that quote tweets posted by the followed user are captured.\n",
    "\n",
    "Note that the quoted tweet (step 3) is not captured because @jlittman_dev2 isn't being followed; however, it is available as the *quoted_status* of the quote tweet."
   ]
  },
  {
   "cell_type": "code",
   "execution_count": 22,
   "metadata": {
    "collapsed": false
   },
   "outputs": [
    {
     "name": "stdout",
     "output_type": "stream",
     "text": [
      "{\n",
      "    \"favorite_count\": 0, \n",
      "    \"id_str\": \"795974800028082176\", \n",
      "    \"quoted_status\": {\n",
      "        \"favorite_count\": 0, \n",
      "        \"id_str\": \"795974171754897409\", \n",
      "        \"retweet_count\": 0, \n",
      "        \"text\": \"This is a tweet that will be requoted.\", \n",
      "        \"user\": {\n",
      "            \"id_str\": \"795968058280083456\", \n",
      "            \"screen_name\": \"jlittman_dev2\"\n",
      "        }\n",
      "    }, \n",
      "    \"retweet_count\": 0, \n",
      "    \"text\": \"I am quoting this tweet. https://t.co/xobWto3mAc\", \n",
      "    \"user\": {\n",
      "        \"id_str\": \"2875189485\", \n",
      "        \"screen_name\": \"jlittman_dev\"\n",
      "    }\n",
      "}\n"
     ]
    }
   ],
   "source": [
    "# Print the third tweet\n",
    "tweet3 = json.loads(lines[2])\n",
    "dump(tweet3)"
   ]
  },
  {
   "cell_type": "markdown",
   "metadata": {},
   "source": [
    "The fourth tweet is a reply by @jlittman_dev2 to a tweet by @jlittman_dev. This is step 6. Thus, replies to the followed user are captured.\n",
    "\n",
    "Note that the tweet from step 5 (@jlittman_dev2's quote tweet of @jlittman_dev's tweet) was not captured. Thus, quote tweets in which the followed user is quoted are not captured."
   ]
  },
  {
   "cell_type": "code",
   "execution_count": 23,
   "metadata": {
    "collapsed": false
   },
   "outputs": [
    {
     "name": "stdout",
     "output_type": "stream",
     "text": [
      "{\n",
      "    \"favorite_count\": 0, \n",
      "    \"id_str\": \"795975688981544960\", \n",
      "    \"in_reply_to_screen_name\": \"jlittman_dev\", \n",
      "    \"in_reply_to_status_id_str\": \"795972351250796545\", \n",
      "    \"in_reply_to_user_id_str\": \"2875189485\", \n",
      "    \"retweet_count\": 0, \n",
      "    \"text\": \"@jlittman_dev I am replying to test tweet 15.\", \n",
      "    \"user\": {\n",
      "        \"id_str\": \"795968058280083456\", \n",
      "        \"screen_name\": \"jlittman_dev2\"\n",
      "    }\n",
      "}\n"
     ]
    }
   ],
   "source": [
    "# Print the fourth tweet\n",
    "tweet4 = json.loads(lines[3])\n",
    "dump(tweet4)"
   ]
  },
  {
   "cell_type": "markdown",
   "metadata": {},
   "source": [
    "The fifth tweet is from step 7, @jlittman_dev's reply to @jlittman_dev's reply. Thus, replies by the followed user to replies are captured."
   ]
  },
  {
   "cell_type": "code",
   "execution_count": 24,
   "metadata": {
    "collapsed": false
   },
   "outputs": [
    {
     "name": "stdout",
     "output_type": "stream",
     "text": [
      "{\n",
      "    \"favorite_count\": 0, \n",
      "    \"id_str\": \"795975981370576896\", \n",
      "    \"in_reply_to_screen_name\": \"jlittman_dev2\", \n",
      "    \"in_reply_to_status_id_str\": \"795975688981544960\", \n",
      "    \"in_reply_to_user_id_str\": \"795968058280083456\", \n",
      "    \"retweet_count\": 0, \n",
      "    \"text\": \"@jlittman_dev2 I am replying to your reply of test tweet 15.\", \n",
      "    \"user\": {\n",
      "        \"id_str\": \"2875189485\", \n",
      "        \"screen_name\": \"jlittman_dev\"\n",
      "    }\n",
      "}\n"
     ]
    }
   ],
   "source": [
    "# Print the fifth tweet\n",
    "tweet5 = json.loads(lines[4])\n",
    "dump(tweet5)"
   ]
  },
  {
   "cell_type": "markdown",
   "metadata": {},
   "source": [
    "The final tweet is a reply by @jlittman_dev to a tweet by @jlittman_dev2. Thus, replies by the followed user are captured."
   ]
  },
  {
   "cell_type": "code",
   "execution_count": 25,
   "metadata": {
    "collapsed": false
   },
   "outputs": [
    {
     "name": "stdout",
     "output_type": "stream",
     "text": [
      "{\n",
      "    \"favorite_count\": 0, \n",
      "    \"id_str\": \"795976980416098304\", \n",
      "    \"in_reply_to_screen_name\": \"jlittman_dev2\", \n",
      "    \"in_reply_to_status_id_str\": \"795976763809693696\", \n",
      "    \"in_reply_to_user_id_str\": \"795968058280083456\", \n",
      "    \"retweet_count\": 0, \n",
      "    \"text\": \"@jlittman_dev2 Replying to your tweet.\", \n",
      "    \"user\": {\n",
      "        \"id_str\": \"2875189485\", \n",
      "        \"screen_name\": \"jlittman_dev\"\n",
      "    }\n",
      "}\n"
     ]
    }
   ],
   "source": [
    "# Print the sixth tweet\n",
    "tweet6 = json.loads(lines[5])\n",
    "dump(tweet6)"
   ]
  },
  {
   "cell_type": "markdown",
   "metadata": {},
   "source": [
    "The only tweet in our test of the follow parameter of the twitter filter stream that wasn't captured was the quote of a followed user's tweet by another user.\n",
    "\n",
    "#### Track parameter\n",
    "Let's see if we can capture that with the track parameter, by using the user's screen name as the keyword.\n",
    "\n",
    "Note that a user can change her screen name, so that will need to be monitored if using this approach.\n",
    "\n",
    "Again, I used Twarc to record the filter stream, this time tracking @jlittman_dev (as a keyword):\n",
    "\n",
    "    twarc.py --track @jlittman_dev > track.json\n",
    "    \n",
    "I then performed the following actions on the Twitter website:\n",
    "\n",
    "1. @jlittman_dev2: Posted [a tweet mentioning @justin_littman](https://twitter.com/jlittman_dev2/status/796403542777065473).\n",
    "2. @jlittman_dev2: [Quoted](https://twitter.com/jlittman_dev2/status/796403611144224769) [a tweet by @jlittman_dev](https://twitter.com/jlittman_dev/status/795972351250796545).\n",
    "\n",
    "Only a single tweet is captured."
   ]
  },
  {
   "cell_type": "code",
   "execution_count": 26,
   "metadata": {
    "collapsed": false
   },
   "outputs": [
    {
     "name": "stdout",
     "output_type": "stream",
     "text": [
      "1\n",
      "{\n",
      "    \"favorite_count\": 0, \n",
      "    \"id_str\": \"796403542777065473\", \n",
      "    \"retweet_count\": 0, \n",
      "    \"text\": \"I am mentioning @jlittman_dev again.\", \n",
      "    \"user\": {\n",
      "        \"id_str\": \"795968058280083456\", \n",
      "        \"screen_name\": \"jlittman_dev2\"\n",
      "    }\n",
      "}\n"
     ]
    }
   ],
   "source": [
    "# Load the tweets\n",
    "with codecs.open('./track.json', 'r') as f:\n",
    "    lines = f.readlines()\n",
    "# Print the number of tweets\n",
    "print len(lines)\n",
    "# Print the first tweet\n",
    "tweet1 = json.loads(lines[0])\n",
    "dump(tweet1)"
   ]
  },
  {
   "cell_type": "markdown",
   "metadata": {},
   "source": [
    "This is the tweet that resulted from the mention of @jlittman_dev (step 1). Again, the tweet quoting the followed user wasn't captured.\n",
    "\n",
    "#### POST statuses/filter summary\n",
    "Thus, to summarize for a given user, the following can be captured using the filter stream and the follow parameter:\n",
    "\n",
    "* Tweets, quotes, and replies by that user.\n",
    "* Retweets of tweets by that user.\n",
    "* Replies to that user by another user.\n",
    "\n",
    "but not quotes of that user's tweets by another user. The track parameter does not help with catching quotes of that user's tweets."
   ]
  },
  {
   "cell_type": "markdown",
   "metadata": {},
   "source": [
    "## Summary\n",
    "\n",
    "The Twitter API provides extensive support for retrieving data for studying dialogues and interaction on Twitter.\n",
    "\n",
    "The following table summarizes what is available in a tweet for retweets, replies, quotes, and favorites.\n",
    "\n",
    "For a tweet that is ... | Available\n",
    "------------ | -------------\n",
    "Retweeted | Count of retweets\n",
    "A retweet | Source tweet\n",
    "Quoted | No\n",
    "A quote | Quoted tweet\n",
    "Favorited | Count of favorites\n",
    "Replied to | No\n",
    "A reply | Replied to tweet\n",
    "\n",
    "The two most helpful API methods for retweets, replies, quotes, and favorites are GET statuses/user_timeline and POST statuses/filter. The following table summarizes the affordances of these methods:\n",
    "\n",
    "Tweet type | GET statuses/user_timeline | POST statuses/filter\n",
    "------------ | ------------- | -------------\n",
    "Tweets by the user | Yes | Yes\n",
    "Retweets by the user | Yes | Yes\n",
    "Retweets by other users of tweet by the user | No | Yes\n",
    "Quotes by the user | Yes | Yes\n",
    "Quotes by other users of tweet by the user | No | No\n",
    "Replies by user | Yes | Yes\n",
    "Replies by other users to tweet by the user | No | Yes\n",
    "\n",
    "Note that Social Feed Manager supports collecting using both of these methods."
   ]
  },
  {
   "cell_type": "code",
   "execution_count": null,
   "metadata": {
    "collapsed": true
   },
   "outputs": [],
   "source": []
  }
 ],
 "metadata": {
  "kernelspec": {
   "display_name": "Python 2",
   "language": "python",
   "name": "python2"
  },
  "language_info": {
   "codemirror_mode": {
    "name": "ipython",
    "version": 2
   },
   "file_extension": ".py",
   "mimetype": "text/x-python",
   "name": "python",
   "nbconvert_exporter": "python",
   "pygments_lexer": "ipython2",
   "version": "2.7.10"
  }
 },
 "nbformat": 4,
 "nbformat_minor": 1
}
