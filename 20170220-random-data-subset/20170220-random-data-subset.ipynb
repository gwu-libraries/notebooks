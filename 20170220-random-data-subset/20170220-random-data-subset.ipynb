{
 "cells": [
  {
   "cell_type": "markdown",
   "metadata": {},
   "source": [
    "# Deriving a random subset of tweets (JSON or CSV)"
   ]
  },
  {
   "cell_type": "markdown",
   "metadata": {},
   "source": [
    "Let's say you're working with a file containing tweets, and you'd like to derive a random sample of tweets from that file.  For example, your set might be in chronological order, and you want just a random sample of 100 tweets from a mix of dates."
   ]
  },
  {
   "cell_type": "markdown",
   "metadata": {},
   "source": [
    "Note that the technique we describe here works for any type of data file with one observation per line, whether it's tweets or some other type of data, and whether the observations are in CSV format, JSON format, or some other text-based format with one observation per line."
   ]
  },
  {
   "cell_type": "markdown",
   "metadata": {},
   "source": [
    "Let's take a look at our sample data file:"
   ]
  },
  {
   "cell_type": "code",
   "execution_count": 26,
   "metadata": {
    "collapsed": false
   },
   "outputs": [
    {
     "name": "stdout",
     "output_type": "stream",
     "text": [
      "created_at,twitter_id,screen_name,followers_count,friends_count,favorite_count/like_count,retweet_count,hashtags,mentions,in_reply_to_screen_name,twitter_url,text,is_retweet,is_quote,coordinates,url1,url1_expanded,url2,url2_expanded,media_url\r",
      "\r\n",
      "2016-09-26 17:52:09+00:00,780464994479542272,tlajj5,21,18,0,0,\"TrumpTrain, MAGA\",realDonaldTrump,,http://twitter.com/tlajj5/status/780464994479542272,RT @realDonaldTrump: New national Bloomberg poll just released - thank you! Join the MOVEMENT: https://t.co/3KWOl2ibaW.  #TrumpTrain #MAGA…,Yes,No,,https://t.co/3KWOl2ibaW,http://www.DonaldJTrump.com,,,\r",
      "\r\n",
      "2016-09-26 17:55:09+00:00,780465749794123777,Kosky98,87,82,0,0,Debates2016,HebertEtHalfred,,http://twitter.com/Kosky98/status/780465749794123777,RT @HebertEtHalfred: Quoi ? #Debates2016 ou quoi ?? https://t.co/NUYvbc0kYc,Yes,No,,,,,,http://pbs.twimg.com/media/CtTFQ2rWcAAKLb7.jpg\r",
      "\r\n",
      "2016-09-26 17:56:34+00:00,780466104720236545,DeplorableTink,84,66,0,0,\"sundaythoughts, ImWithHer, Debates2016, CrookedHillary\",taydark_77,,http://twitter.com/DeplorableTink/status/780466104720236545,RT @taydark_77: #sundaythoughts We all know who the real deplorable's are. Every #ImWithHer crew. #Debates2016 #CrookedHillary https://t.co…,Yes,No,,,,,,\r",
      "\r\n",
      "2016-09-26 18:03:19+00:00,780467803266682880,EmiliaSaez10,10,734,0,0,\"HILLARYPRESIDENT, HillaryClinton, presidentialelection, PresidentialDebate, debatenight\",\"VigilanteArtist, HillaryClinton\",,http://twitter.com/EmiliaSaez10/status/780467803266682880,RT @VigilanteArtist: RT #HILLARYPRESIDENT @HillaryClinton   #HillaryClinton #presidentialelection #PresidentialDebate #debatenight #Debates…,Yes,No,,,,,,\r",
      "\r\n"
     ]
    }
   ],
   "source": [
    "!head -n 5 debatetweets.csv"
   ]
  },
  {
   "cell_type": "markdown",
   "metadata": {},
   "source": [
    "It appears to have a header row, which we'll deal with shortly, followed by the data.  It looks like the tweets were written to the file in some sort of chronological order.  How long is it?"
   ]
  },
  {
   "cell_type": "code",
   "execution_count": 27,
   "metadata": {
    "collapsed": false
   },
   "outputs": [
    {
     "name": "stdout",
     "output_type": "stream",
     "text": [
      "    1001 debatetweets.csv\r\n"
     ]
    }
   ],
   "source": [
    "!wc -l debatetweets.csv"
   ]
  },
  {
   "cell_type": "markdown",
   "metadata": {},
   "source": [
    "It's 1,001 rows, so that's 1 header row followed by 1,000 observations."
   ]
  },
  {
   "cell_type": "markdown",
   "metadata": {},
   "source": [
    "The critical tool for accomplishing this cleverly is the `shuf`/`gshuf` shell command.  This command, part of the GNU Coreutils library, shows up as `shuf` in a bash shell, or as `gshuf` in Mac OSX (installed via `brew install coreutils`) and as `gshuf` in the IPython shell like we have here.  Let's see what it can do:"
   ]
  },
  {
   "cell_type": "code",
   "execution_count": 28,
   "metadata": {
    "collapsed": false
   },
   "outputs": [
    {
     "name": "stdout",
     "output_type": "stream",
     "text": [
      "Usage: gshuf [OPTION]... [FILE]\r\n",
      "  or:  gshuf -e [OPTION]... [ARG]...\r\n",
      "  or:  gshuf -i LO-HI [OPTION]...\r\n",
      "Write a random permutation of the input lines to standard output.\r\n",
      "\r\n",
      "With no FILE, or when FILE is -, read standard input.\r\n",
      "\r\n",
      "Mandatory arguments to long options are mandatory for short options too.\r\n",
      "  -e, --echo                treat each ARG as an input line\r\n",
      "  -i, --input-range=LO-HI   treat each number LO through HI as an input line\r\n",
      "  -n, --head-count=COUNT    output at most COUNT lines\r\n",
      "  -o, --output=FILE         write result to FILE instead of standard output\r\n",
      "      --random-source=FILE  get random bytes from FILE\r\n",
      "  -r, --repeat              output lines can be repeated\r\n",
      "  -z, --zero-terminated     line delimiter is NUL, not newline\r\n",
      "      --help     display this help and exit\r\n",
      "      --version  output version information and exit\r\n",
      "\r\n",
      "GNU coreutils online help: <http://www.gnu.org/software/coreutils/>\r\n",
      "Full documentation at: <http://www.gnu.org/software/coreutils/shuf>\r\n",
      "or available locally via: info '(coreutils) shuf invocation'\r\n"
     ]
    }
   ],
   "source": [
    "!gshuf --help"
   ]
  },
  {
   "cell_type": "markdown",
   "metadata": {},
   "source": [
    "It looks like this is something we can use!  First we need to peel off the header row; we'll put it back later:"
   ]
  },
  {
   "cell_type": "code",
   "execution_count": 29,
   "metadata": {
    "collapsed": false
   },
   "outputs": [],
   "source": [
    "!head -n 1 debatetweets.csv > header.csv"
   ]
  },
  {
   "cell_type": "markdown",
   "metadata": {},
   "source": [
    "Now for the main event.  We'll pipe ( `|` ) everything *except* the first line of debatetweets.csv to `gshuf`, and we'll take advantage of the `-n` option to request only 100 lines:"
   ]
  },
  {
   "cell_type": "code",
   "execution_count": 30,
   "metadata": {
    "collapsed": true
   },
   "outputs": [],
   "source": [
    "!tail -n +2 debatetweets.csv | gshuf -n 100 > only100tweets.csv"
   ]
  },
  {
   "cell_type": "markdown",
   "metadata": {},
   "source": [
    "Now let's quickly size up what we got out:"
   ]
  },
  {
   "cell_type": "code",
   "execution_count": 31,
   "metadata": {
    "collapsed": false
   },
   "outputs": [
    {
     "name": "stdout",
     "output_type": "stream",
     "text": [
      "2016-09-27 08:58:10+00:00,780692999651074048,beingmissdaisy,1278,1007,0,0,debatenight,Elijahkyama,,http://twitter.com/beingmissdaisy/status/780692999651074048,RT @Elijahkyama: The person who did this will be haunted for nothing https://t.co/69C2KHMAk3 #debatenight,Yes,No,,,,,,http://pbs.twimg.com/media/CtUjRLIVIAAK5VT.jpg\r",
      "\r\n",
      "2016-09-27 06:59:53+00:00,780663232537198592,PlatoSays,2141,993,0,0,\"debatenight, Debates2016\",Agent4Trump,,http://twitter.com/PlatoSays/status/780663232537198592,RT @Agent4Trump: Stop Lying Hillary Fact Check Trolls.... ICE union endorses Trump https://t.co/EaVN7m9rxN #debatenight #Debates2016,Yes,No,,https://t.co/EaVN7m9rxN,http://politi.co/2cWt8Wp,,,\r",
      "\r\n",
      "2016-09-27 09:43:24+00:00,780704382048428032,Alex70CDA,456,375,0,0,\"Narcos, Debate\",la_maquina,,http://twitter.com/Alex70CDA/status/780704382048428032,RT @la_maquina: That one time a rich ranting lunatic thought he would be President. #Narcos / #Debate https://t.co/Xp1wCcqYFA,Yes,No,,,,,,http://pbs.twimg.com/media/CtU6PrPVMAAIWU8.jpg\r",
      "\r\n",
      "2016-09-27 00:09:23+00:00,780559928876466178,proudliberalmom,5290,5762,0,0,debatenight,GovGaryJohnson,,http://twitter.com/proudliberalmom/status/780559928876466178,.@GovGaryJohnson u shouldn't b on debate stage. No US Prez candidate should do this.Fuck 3rd party vote #debatenight https://t.co/CW7TaGMDIi,No,No,,https://t.co/CW7TaGMDIi,https://youtu.be/NXhR41lsEJY,,,\r",
      "\r\n",
      "2016-09-27 02:33:48+00:00,780596271622926336,sophiecredo,199,312,0,0,\"debatenight, debates, Debates2016\",h3h3productions,,http://twitter.com/sophiecredo/status/780596271622926336,RT @h3h3productions: I am the 400 lb hacker #debatenight #debates #Debates2016 https://t.co/amWtGmGTcf,Yes,No,,,,,,http://pbs.twimg.com/media/CtU6xS8UMAAQXwX.jpg\r",
      "\r\n"
     ]
    }
   ],
   "source": [
    "!head -n 5 only100tweets.csv"
   ]
  },
  {
   "cell_type": "markdown",
   "metadata": {},
   "source": [
    "That looks like the random sample we expected.  It doesn't appear to be in any chronological order."
   ]
  },
  {
   "cell_type": "code",
   "execution_count": 32,
   "metadata": {
    "collapsed": false
   },
   "outputs": [
    {
     "name": "stdout",
     "output_type": "stream",
     "text": [
      "     100 only100tweets.csv\r\n"
     ]
    }
   ],
   "source": [
    "!wc -l only100tweets.csv"
   ]
  },
  {
   "cell_type": "markdown",
   "metadata": {},
   "source": [
    "Last but not least, we do need to reattach the header row (not applicable in the case of a line-oriented JSON file):"
   ]
  },
  {
   "cell_type": "code",
   "execution_count": 33,
   "metadata": {
    "collapsed": true
   },
   "outputs": [],
   "source": [
    "!cat header.csv only100tweets.csv > debatetweets-100sample.csv"
   ]
  },
  {
   "cell_type": "code",
   "execution_count": 34,
   "metadata": {
    "collapsed": false,
    "scrolled": true
   },
   "outputs": [
    {
     "name": "stdout",
     "output_type": "stream",
     "text": [
      "created_at,twitter_id,screen_name,followers_count,friends_count,favorite_count/like_count,retweet_count,hashtags,mentions,in_reply_to_screen_name,twitter_url,text,is_retweet,is_quote,coordinates,url1,url1_expanded,url2,url2_expanded,media_url\r",
      "\r\n",
      "2016-09-27 08:58:10+00:00,780692999651074048,beingmissdaisy,1278,1007,0,0,debatenight,Elijahkyama,,http://twitter.com/beingmissdaisy/status/780692999651074048,RT @Elijahkyama: The person who did this will be haunted for nothing https://t.co/69C2KHMAk3 #debatenight,Yes,No,,,,,,http://pbs.twimg.com/media/CtUjRLIVIAAK5VT.jpg\r",
      "\r\n",
      "2016-09-27 06:59:53+00:00,780663232537198592,PlatoSays,2141,993,0,0,\"debatenight, Debates2016\",Agent4Trump,,http://twitter.com/PlatoSays/status/780663232537198592,RT @Agent4Trump: Stop Lying Hillary Fact Check Trolls.... ICE union endorses Trump https://t.co/EaVN7m9rxN #debatenight #Debates2016,Yes,No,,https://t.co/EaVN7m9rxN,http://politi.co/2cWt8Wp,,,\r",
      "\r\n",
      "2016-09-27 09:43:24+00:00,780704382048428032,Alex70CDA,456,375,0,0,\"Narcos, Debate\",la_maquina,,http://twitter.com/Alex70CDA/status/780704382048428032,RT @la_maquina: That one time a rich ranting lunatic thought he would be President. #Narcos / #Debate https://t.co/Xp1wCcqYFA,Yes,No,,,,,,http://pbs.twimg.com/media/CtU6PrPVMAAIWU8.jpg\r",
      "\r\n",
      "2016-09-27 00:09:23+00:00,780559928876466178,proudliberalmom,5290,5762,0,0,debatenight,GovGaryJohnson,,http://twitter.com/proudliberalmom/status/780559928876466178,.@GovGaryJohnson u shouldn't b on debate stage. No US Prez candidate should do this.Fuck 3rd party vote #debatenight https://t.co/CW7TaGMDIi,No,No,,https://t.co/CW7TaGMDIi,https://youtu.be/NXhR41lsEJY,,,\r",
      "\r\n"
     ]
    }
   ],
   "source": [
    "!head -n 5 debatetweets-100sample.csv"
   ]
  },
  {
   "cell_type": "markdown",
   "metadata": {},
   "source": [
    "Done!"
   ]
  }
 ],
 "metadata": {
  "kernelspec": {
   "display_name": "Python 3",
   "language": "python",
   "name": "python3"
  },
  "language_info": {
   "codemirror_mode": {
    "name": "ipython",
    "version": 3
   },
   "file_extension": ".py",
   "mimetype": "text/x-python",
   "name": "python",
   "nbconvert_exporter": "python",
   "pygments_lexer": "ipython3",
   "version": "3.5.2"
  }
 },
 "nbformat": 4,
 "nbformat_minor": 0
}
